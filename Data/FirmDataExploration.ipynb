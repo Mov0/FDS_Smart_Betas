{
 "cells": [
  {
   "cell_type": "code",
   "execution_count": 7,
   "id": "2168b07d",
   "metadata": {
    "scrolled": true
   },
   "outputs": [
    {
     "data": {
      "text/html": [
       "<div>\n",
       "<style scoped>\n",
       "    .dataframe tbody tr th:only-of-type {\n",
       "        vertical-align: middle;\n",
       "    }\n",
       "\n",
       "    .dataframe tbody tr th {\n",
       "        vertical-align: top;\n",
       "    }\n",
       "\n",
       "    .dataframe thead th {\n",
       "        text-align: right;\n",
       "    }\n",
       "</style>\n",
       "<table border=\"1\" class=\"dataframe\">\n",
       "  <thead>\n",
       "    <tr style=\"text-align: right;\">\n",
       "      <th></th>\n",
       "      <th>RIC</th>\n",
       "      <th>Date</th>\n",
       "      <th>Total Equity</th>\n",
       "      <th>Company Market Cap</th>\n",
       "      <th>Revenue</th>\n",
       "      <th>Full-Time Employees</th>\n",
       "      <th>Cash Dividend Paid, Common, Discrete</th>\n",
       "    </tr>\n",
       "  </thead>\n",
       "  <tbody>\n",
       "    <tr>\n",
       "      <th>0</th>\n",
       "      <td>BAYGn.DE</td>\n",
       "      <td>31/12/1995</td>\n",
       "      <td>8488.469784</td>\n",
       "      <td>NaN</td>\n",
       "      <td>22200.29864</td>\n",
       "      <td>148248</td>\n",
       "      <td>382.4463271</td>\n",
       "    </tr>\n",
       "    <tr>\n",
       "      <th>1</th>\n",
       "      <td>BAYGn.DE</td>\n",
       "      <td>31/12/1996</td>\n",
       "      <td>9109.178272</td>\n",
       "      <td>23034.05554</td>\n",
       "      <td>22793.39736</td>\n",
       "      <td>142900</td>\n",
       "      <td>463.7417362</td>\n",
       "    </tr>\n",
       "    <tr>\n",
       "      <th>2</th>\n",
       "      <td>BAYGn.DE</td>\n",
       "      <td>31/12/1997</td>\n",
       "      <td>10532.10391</td>\n",
       "      <td>24409.89006</td>\n",
       "      <td>24852.88154</td>\n",
       "      <td>142200</td>\n",
       "      <td>543.5032697</td>\n",
       "    </tr>\n",
       "    <tr>\n",
       "      <th>3</th>\n",
       "      <td>BAYGn.DE</td>\n",
       "      <td>31/12/1998</td>\n",
       "      <td>12008.20391</td>\n",
       "      <td>26146.11494</td>\n",
       "      <td>28123.61646</td>\n",
       "      <td>144600</td>\n",
       "      <td>634.0019327</td>\n",
       "    </tr>\n",
       "    <tr>\n",
       "      <th>4</th>\n",
       "      <td>BAYGn.DE</td>\n",
       "      <td>31/12/1999</td>\n",
       "      <td>12566.53478</td>\n",
       "      <td>34399.10820</td>\n",
       "      <td>23351.72822</td>\n",
       "      <td>145100</td>\n",
       "      <td>364.0398194</td>\n",
       "    </tr>\n",
       "    <tr>\n",
       "      <th>...</th>\n",
       "      <td>...</td>\n",
       "      <td>...</td>\n",
       "      <td>...</td>\n",
       "      <td>...</td>\n",
       "      <td>...</td>\n",
       "      <td>...</td>\n",
       "      <td>...</td>\n",
       "    </tr>\n",
       "    <tr>\n",
       "      <th>33300</th>\n",
       "      <td>IGY.BN^F20</td>\n",
       "      <td>31/12/2017</td>\n",
       "      <td>8931</td>\n",
       "      <td>NaN</td>\n",
       "      <td>41549</td>\n",
       "      <td>40636</td>\n",
       "      <td>979</td>\n",
       "    </tr>\n",
       "    <tr>\n",
       "      <th>33301</th>\n",
       "      <td>IGY.BN^F20</td>\n",
       "      <td>31/12/2018</td>\n",
       "      <td>9439</td>\n",
       "      <td>NaN</td>\n",
       "      <td>41119</td>\n",
       "      <td>42393</td>\n",
       "      <td>1328</td>\n",
       "    </tr>\n",
       "    <tr>\n",
       "      <th>33302</th>\n",
       "      <td>IGY.BN^F20</td>\n",
       "      <td>31/12/2019</td>\n",
       "      <td>7900</td>\n",
       "      <td>NaN</td>\n",
       "      <td>33273</td>\n",
       "      <td>37374</td>\n",
       "      <td>1186</td>\n",
       "    </tr>\n",
       "    <tr>\n",
       "      <th>33303</th>\n",
       "      <td>IGY.BN^F20</td>\n",
       "      <td>31/12/2020</td>\n",
       "      <td>7426</td>\n",
       "      <td>NaN</td>\n",
       "      <td>33535</td>\n",
       "      <td>34523</td>\n",
       "      <td>907</td>\n",
       "    </tr>\n",
       "    <tr>\n",
       "      <th>33304</th>\n",
       "      <td>IGY.BN^F20</td>\n",
       "      <td>31/12/2021</td>\n",
       "      <td>7426</td>\n",
       "      <td>NaN</td>\n",
       "      <td>33535</td>\n",
       "      <td>34523</td>\n",
       "      <td>907</td>\n",
       "    </tr>\n",
       "  </tbody>\n",
       "</table>\n",
       "<p>33305 rows × 7 columns</p>\n",
       "</div>"
      ],
      "text/plain": [
       "              RIC        Date Total Equity  Company Market Cap      Revenue  \\\n",
       "0        BAYGn.DE  31/12/1995  8488.469784                 NaN  22200.29864   \n",
       "1        BAYGn.DE  31/12/1996  9109.178272         23034.05554  22793.39736   \n",
       "2        BAYGn.DE  31/12/1997  10532.10391         24409.89006  24852.88154   \n",
       "3        BAYGn.DE  31/12/1998  12008.20391         26146.11494  28123.61646   \n",
       "4        BAYGn.DE  31/12/1999  12566.53478         34399.10820  23351.72822   \n",
       "...           ...         ...          ...                 ...          ...   \n",
       "33300  IGY.BN^F20  31/12/2017         8931                 NaN        41549   \n",
       "33301  IGY.BN^F20  31/12/2018         9439                 NaN        41119   \n",
       "33302  IGY.BN^F20  31/12/2019         7900                 NaN        33273   \n",
       "33303  IGY.BN^F20  31/12/2020         7426                 NaN        33535   \n",
       "33304  IGY.BN^F20  31/12/2021         7426                 NaN        33535   \n",
       "\n",
       "      Full-Time Employees Cash Dividend Paid, Common, Discrete  \n",
       "0                  148248                          382.4463271  \n",
       "1                  142900                          463.7417362  \n",
       "2                  142200                          543.5032697  \n",
       "3                  144600                          634.0019327  \n",
       "4                  145100                          364.0398194  \n",
       "...                   ...                                  ...  \n",
       "33300               40636                                  979  \n",
       "33301               42393                                 1328  \n",
       "33302               37374                                 1186  \n",
       "33303               34523                                  907  \n",
       "33304               34523                                  907  \n",
       "\n",
       "[33305 rows x 7 columns]"
      ]
     },
     "execution_count": 7,
     "metadata": {},
     "output_type": "execute_result"
    }
   ],
   "source": [
    "import pandas as pd\n",
    "import numpy as np\n",
    "data = pd.read_csv('FirmData.csv')\n",
    "data"
   ]
  },
  {
   "cell_type": "code",
   "execution_count": 6,
   "id": "1c0df2df",
   "metadata": {},
   "outputs": [
    {
     "name": "stdout",
     "output_type": "stream",
     "text": [
      "Number of NaN values in Company Market Cap column: 8571\n"
     ]
    }
   ],
   "source": [
    "nan_count = data[\"Company Market Cap\"].isna().sum()\n",
    "\n",
    "# Print the result\n",
    "print(\"Number of NaN values in Company Market Cap column:\", nan_count)"
   ]
  },
  {
   "cell_type": "code",
   "execution_count": 8,
   "id": "b4306294",
   "metadata": {},
   "outputs": [
    {
     "name": "stdout",
     "output_type": "stream",
     "text": [
      "Number of NaN values in RIC column: 0\n"
     ]
    }
   ],
   "source": [
    "nan_count = data[\"RIC\"].isna().sum()\n",
    "\n",
    "# Print the result\n",
    "print(\"Number of NaN values in RIC column:\", nan_count)"
   ]
  },
  {
   "cell_type": "code",
   "execution_count": 10,
   "id": "08e767b3",
   "metadata": {},
   "outputs": [
    {
     "name": "stdout",
     "output_type": "stream",
     "text": [
      "Number of NaN values in Cash Dividend Paid, Common, Discrete column: 21360\n"
     ]
    }
   ],
   "source": [
    "nan_count = data[\"Cash Dividend Paid, Common, Discrete\"].isna().sum()\n",
    "\n",
    "# Print the result\n",
    "print(\"Number of NaN values in Cash Dividend Paid, Common, Discrete column:\", nan_count)"
   ]
  },
  {
   "cell_type": "code",
   "execution_count": null,
   "id": "98d2ee08",
   "metadata": {},
   "outputs": [],
   "source": []
  }
 ],
 "metadata": {
  "kernelspec": {
   "display_name": "Python 3 (ipykernel)",
   "language": "python",
   "name": "python3"
  },
  "language_info": {
   "codemirror_mode": {
    "name": "ipython",
    "version": 3
   },
   "file_extension": ".py",
   "mimetype": "text/x-python",
   "name": "python",
   "nbconvert_exporter": "python",
   "pygments_lexer": "ipython3",
   "version": "3.11.5"
  }
 },
 "nbformat": 4,
 "nbformat_minor": 5
}
