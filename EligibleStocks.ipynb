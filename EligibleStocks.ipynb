{
 "cells": [
  {
   "cell_type": "code",
   "execution_count": 1,
   "metadata": {},
   "outputs": [],
   "source": [
    "import pandas as pd\n",
    "import numpy as np\n",
    "from pandas import DataFrame\n",
    "import math"
   ]
  },
  {
   "cell_type": "code",
   "execution_count": 2,
   "metadata": {},
   "outputs": [],
   "source": [
    "df_Market_Cap = pd.read_pickle(\"UsableData/MarketCap.pkl\")\n",
    "df_Employees = pd.read_pickle(\"UsableData/Employees.pkl\")\n",
    "df_Book_Value = pd.read_pickle(\"UsableData/BookValue.pkl\")\n",
    "df_Returns = pd.read_pickle(\"UsableData/Returns.pkl\").T"
   ]
  },
  {
   "cell_type": "code",
   "execution_count": 3,
   "metadata": {},
   "outputs": [],
   "source": [
    "df_eligible = df_Market_Cap.copy(deep=True)\n",
    "for column in df_eligible:\n",
    "    df_eligible[column].astype(\"bool\")\n",
    "    df_eligible[column] = False"
   ]
  },
  {
   "cell_type": "code",
   "execution_count": 4,
   "metadata": {},
   "outputs": [],
   "source": [
    "def unusableReturns(ric, year):\n",
    "    selection = df_Returns[ric][(df_Returns.index >= f\"{year}-01-01\") & (df_Returns.index <= f\"{year}-12-31\")]\n",
    "    return bool(selection.isna().values.any())"
   ]
  },
  {
   "cell_type": "code",
   "execution_count": 5,
   "metadata": {},
   "outputs": [
    {
     "data": {
      "text/plain": [
       "Index([1996, 1997, 1998, 1999, 2000, 2001, 2002, 2003, 2004, 2005, 2006, 2007,\n",
       "       2008, 2009, 2010, 2011, 2012, 2013, 2014, 2015, 2016, 2017, 2018, 2019,\n",
       "       2020, 2021],\n",
       "      dtype='int32', name='Year')"
      ]
     },
     "execution_count": 5,
     "metadata": {},
     "output_type": "execute_result"
    }
   ],
   "source": [
    "years = df_Market_Cap.columns.to_numpy()[:-1]\n",
    "for ric in df_Market_Cap.index:\n",
    "    for year in years:\n",
    "        mc = df_Market_Cap.loc[ric, year]\n",
    "        emp = df_Employees.loc[ric, year]\n",
    "        bv = df_Book_Value.loc[ric, year]\n",
    "        if(math.isnan(mc) or math.isnan(emp) or math.isnan(bv) or unusableReturns(ric, year+1)):\n",
    "            df_eligible.at[ric, year+1] = False\n",
    "        else:\n",
    "            df_eligible.at[ric, year+1] = True\n",
    "df_eligible.drop(columns=[years[0]], inplace=True) # Drop first and last year\n",
    "df_eligible.columns"
   ]
  },
  {
   "cell_type": "code",
   "execution_count": 6,
   "metadata": {},
   "outputs": [
    {
     "name": "stdout",
     "output_type": "stream",
     "text": [
      "1996: 2\n",
      "1997: 22\n",
      "1998: 33\n",
      "1999: 103\n",
      "2000: 192\n",
      "2001: 292\n",
      "2002: 346\n",
      "2003: 360\n",
      "2004: 431\n",
      "2005: 442\n",
      "2006: 492\n",
      "2007: 553\n",
      "2008: 585\n",
      "2009: 582\n",
      "2010: 552\n",
      "2011: 577\n",
      "2012: 588\n",
      "2013: 551\n",
      "2014: 539\n",
      "2015: 470\n",
      "2016: 451\n",
      "2017: 439\n",
      "2018: 449\n",
      "2019: 461\n",
      "2020: 490\n",
      "2021: 523\n"
     ]
    }
   ],
   "source": [
    "for i in range(len(df_eligible.columns)):\n",
    "    df = df_eligible[df_eligible[df_eligible.columns[i]] == True]\n",
    "    print(f\"{df_eligible.columns[i]}: {len(df.index)}\")"
   ]
  },
  {
   "cell_type": "code",
   "execution_count": 7,
   "metadata": {},
   "outputs": [],
   "source": [
    "df_eligible.to_pickle(\"UsableData/EligibleStocks.pkl\")"
   ]
  }
 ],
 "metadata": {
  "kernelspec": {
   "display_name": "Python 3",
   "language": "python",
   "name": "python3"
  },
  "language_info": {
   "codemirror_mode": {
    "name": "ipython",
    "version": 3
   },
   "file_extension": ".py",
   "mimetype": "text/x-python",
   "name": "python",
   "nbconvert_exporter": "python",
   "pygments_lexer": "ipython3",
   "version": "3.11.7"
  }
 },
 "nbformat": 4,
 "nbformat_minor": 2
}
