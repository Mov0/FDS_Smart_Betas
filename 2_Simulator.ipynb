{
 "cells": [
  {
   "cell_type": "code",
   "execution_count": 4,
   "metadata": {},
   "outputs": [],
   "source": [
    "import pandas as pd\n",
    "import numpy as np\n",
    "from pandas import DataFrame"
   ]
  },
  {
   "cell_type": "code",
   "execution_count": 5,
   "metadata": {},
   "outputs": [],
   "source": [
    "# Read dataframes\n",
    "df_market_cap = pd.read_pickle(\"UsableData/MarketCap.pkl\")\n",
    "df_employees = pd.read_pickle(\"UsableData/Employees.pkl\")\n",
    "df_book_value = pd.read_pickle(\"UsableData/BookValue.pkl\")\n",
    "df_equal = pd.read_pickle(\"UsableData/Equal.pkl\")\n",
    "df_random = pd.read_pickle(\"UsableData/Random.pkl\")\n",
    "df_variance = pd.read_pickle(\"UsableData/Variance.pkl\")\n",
    "df_returns = pd.read_pickle(\"UsableData/Returns.pkl\").T\n",
    "df_eligible = pd.read_pickle(\"UsableData/EligibleStocks.pkl\")"
   ]
  },
  {
   "cell_type": "code",
   "execution_count": 6,
   "metadata": {},
   "outputs": [],
   "source": [
    "# Map strategy names to dataframes and if the strategy is reversed (bigger value = smaller weight)\n",
    "# \"Strategy_Name\"[Dataframe, Bigger_is_Better] - Example bigger market cap = bigger weight -> True, bigger variance = smaller weight -> False\n",
    "strategies = {\"Market Cap\": [df_market_cap, True], \"Employees\": [df_employees, True], \"Book Value\": [df_book_value, True], \"Equal\": [df_equal, True], \"Random\": [df_random, True], \"Variance\": [df_variance, False]}"
   ]
  },
  {
   "cell_type": "code",
   "execution_count": 7,
   "metadata": {},
   "outputs": [],
   "source": [
    "# # Test Data to validate simulation\n",
    "# from pandas import DataFrame\n",
    "\n",
    "# i = [\"A\", \"B\", \"C\"]\n",
    "# data = {2000: [True, True, True], 2001: [True, True, True], 2002: [True, True, True], 2003: [True, True, True]}\n",
    "# df_eligible = DataFrame(data=data, index = i)\n",
    "# times = pd.date_range('2000-01-31', periods=48, freq='M')\n",
    "# df_returns = DataFrame(data = 1, index=times, columns=i)\n",
    "# data = {1999: [1, 1, 1], 2000: [1, 1, 1], 2001: [1, 1, 1], 2002: [1, 1, 1]}\n",
    "# df = DataFrame(data=data, index = i)"
   ]
  },
  {
   "cell_type": "code",
   "execution_count": 8,
   "metadata": {},
   "outputs": [],
   "source": [
    "# Simulate strategies\n",
    "years = df_eligible.columns.to_list()\n",
    "years.insert(0, years[0]-1)\n",
    "df_results = DataFrame(index=df_returns[(df_returns.index >= f\"{years[0]}-12-01\") & (df_returns.index <= f\"{years[-1]}-12-31\")].index, columns=strategies.keys())\n",
    "\n",
    "for strategy in strategies.keys(): # Go through all strategies\n",
    "    df = strategies[strategy][0]\n",
    "    cash = 1\n",
    "    df_results.at[f\"{years[0]}-12-31\", strategy] = cash # Start with 1 € by the end of year 0\n",
    "    for year in years[1:]:\n",
    "        cash_up_to_month = 0\n",
    "        # Calculate weights\n",
    "        eligible_stocks = df_eligible[df_eligible[year] == True][year].index.values\n",
    "        if strategies[strategy][1]: # Default\n",
    "            weight = df.loc[eligible_stocks, year-1]\n",
    "        else: # Reverse weights for small variances\n",
    "            weight = 1/df.loc[eligible_stocks, year-1]\n",
    "        weight = weight/weight.sum()\n",
    "        # Go through month and multiply returns\n",
    "        returns = df_returns[(df_returns.index >= f\"{year}-01-01\") & (df_returns.index <= f\"{year}-12-31\")]\n",
    "        for month in returns.index:\n",
    "            total_cash_gained_up_to_month = 0\n",
    "            returns_up_to_month = returns[(returns.index >= f\"{year}-01-01\") & (returns.index <= month)]\n",
    "            for ric in eligible_stocks: # Go through every stock\n",
    "                stock_return_up_to_month = returns_up_to_month[ric].values\n",
    "                return_up_to_month = (np.prod(stock_return_up_to_month/100 + 1)-1)*100\n",
    "                monetary_change = cash*weight[ric]*return_up_to_month/100\n",
    "                total_cash_gained_up_to_month += monetary_change\n",
    "            cash_up_to_month = total_cash_gained_up_to_month + cash\n",
    "            df_results.at[month, strategy] = cash_up_to_month\n",
    "        cash = cash_up_to_month # Add gained cash by the end of the year to total amount\n",
    "df_results.to_pickle(\"UsableData/Results.pkl\")"
   ]
  }
 ],
 "metadata": {
  "kernelspec": {
   "display_name": "Python 3",
   "language": "python",
   "name": "python3"
  },
  "language_info": {
   "codemirror_mode": {
    "name": "ipython",
    "version": 3
   },
   "file_extension": ".py",
   "mimetype": "text/x-python",
   "name": "python",
   "nbconvert_exporter": "python",
   "pygments_lexer": "ipython3",
   "version": "3.11.7"
  }
 },
 "nbformat": 4,
 "nbformat_minor": 2
}
