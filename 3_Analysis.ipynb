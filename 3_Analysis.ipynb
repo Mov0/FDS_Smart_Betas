{
 "cells": [
  {
   "cell_type": "code",
   "execution_count": 1,
   "metadata": {},
   "outputs": [],
   "source": [
    "import pandas as pd\n",
    "import numpy as np\n",
    "import matplotlib.pyplot as plt\n",
    "from scipy.stats import gmean\n",
    "from pandas import DataFrame\n"
   ]
  },
  {
   "cell_type": "code",
   "execution_count": 2,
   "metadata": {},
   "outputs": [
    {
     "data": {
      "text/html": [
       "<div>\n",
       "<style scoped>\n",
       "    .dataframe tbody tr th:only-of-type {\n",
       "        vertical-align: middle;\n",
       "    }\n",
       "\n",
       "    .dataframe tbody tr th {\n",
       "        vertical-align: top;\n",
       "    }\n",
       "\n",
       "    .dataframe thead th {\n",
       "        text-align: right;\n",
       "    }\n",
       "</style>\n",
       "<table border=\"1\" class=\"dataframe\">\n",
       "  <thead>\n",
       "    <tr style=\"text-align: right;\">\n",
       "      <th></th>\n",
       "      <th>Market Cap</th>\n",
       "      <th>Employees</th>\n",
       "      <th>Book Value</th>\n",
       "      <th>Equal</th>\n",
       "      <th>Random</th>\n",
       "      <th>Variance</th>\n",
       "      <th>Sales</th>\n",
       "      <th>Custom</th>\n",
       "    </tr>\n",
       "  </thead>\n",
       "  <tbody>\n",
       "    <tr>\n",
       "      <th>1995-12-31</th>\n",
       "      <td>1</td>\n",
       "      <td>1</td>\n",
       "      <td>1</td>\n",
       "      <td>1</td>\n",
       "      <td>1</td>\n",
       "      <td>1</td>\n",
       "      <td>1</td>\n",
       "      <td>1</td>\n",
       "    </tr>\n",
       "    <tr>\n",
       "      <th>1996-01-31</th>\n",
       "      <td>1.055732</td>\n",
       "      <td>1.037344</td>\n",
       "      <td>1.027627</td>\n",
       "      <td>1.00793</td>\n",
       "      <td>1.02216</td>\n",
       "      <td>0.975108</td>\n",
       "      <td>1.025296</td>\n",
       "      <td>1.024893</td>\n",
       "    </tr>\n",
       "    <tr>\n",
       "      <th>1996-02-29</th>\n",
       "      <td>1.06463</td>\n",
       "      <td>1.050292</td>\n",
       "      <td>1.042715</td>\n",
       "      <td>1.027357</td>\n",
       "      <td>1.038453</td>\n",
       "      <td>1.001764</td>\n",
       "      <td>1.040898</td>\n",
       "      <td>1.040584</td>\n",
       "    </tr>\n",
       "    <tr>\n",
       "      <th>1996-03-31</th>\n",
       "      <td>1.036932</td>\n",
       "      <td>1.029997</td>\n",
       "      <td>1.026332</td>\n",
       "      <td>1.018903</td>\n",
       "      <td>1.02427</td>\n",
       "      <td>1.006524</td>\n",
       "      <td>1.025453</td>\n",
       "      <td>1.025301</td>\n",
       "    </tr>\n",
       "    <tr>\n",
       "      <th>1996-04-30</th>\n",
       "      <td>1.043941</td>\n",
       "      <td>1.036461</td>\n",
       "      <td>1.032508</td>\n",
       "      <td>1.024496</td>\n",
       "      <td>1.030285</td>\n",
       "      <td>1.011145</td>\n",
       "      <td>1.03156</td>\n",
       "      <td>1.031397</td>\n",
       "    </tr>\n",
       "  </tbody>\n",
       "</table>\n",
       "</div>"
      ],
      "text/plain": [
       "           Market Cap Employees Book Value     Equal    Random  Variance  \\\n",
       "1995-12-31          1         1          1         1         1         1   \n",
       "1996-01-31   1.055732  1.037344   1.027627   1.00793   1.02216  0.975108   \n",
       "1996-02-29    1.06463  1.050292   1.042715  1.027357  1.038453  1.001764   \n",
       "1996-03-31   1.036932  1.029997   1.026332  1.018903   1.02427  1.006524   \n",
       "1996-04-30   1.043941  1.036461   1.032508  1.024496  1.030285  1.011145   \n",
       "\n",
       "               Sales    Custom  \n",
       "1995-12-31         1         1  \n",
       "1996-01-31  1.025296  1.024893  \n",
       "1996-02-29  1.040898  1.040584  \n",
       "1996-03-31  1.025453  1.025301  \n",
       "1996-04-30   1.03156  1.031397  "
      ]
     },
     "execution_count": 2,
     "metadata": {},
     "output_type": "execute_result"
    }
   ],
   "source": [
    "df_Results = pd.read_pickle(\"UsableData/Results.pkl\")\n",
    "df_Results.head(5)"
   ]
  },
  {
   "cell_type": "code",
   "execution_count": 3,
   "metadata": {},
   "outputs": [
    {
     "data": {
      "text/plain": [
       "Market Cap    674.306066\n",
       "Employees     860.363668\n",
       "Book Value    894.857084\n",
       "Equal           794.8897\n",
       "Random        683.701402\n",
       "Variance       78.283396\n",
       "Sales         814.299696\n",
       "Custom        813.344756\n",
       "dtype: object"
      ]
     },
     "execution_count": 3,
     "metadata": {},
     "output_type": "execute_result"
    }
   ],
   "source": [
    "# Based on 3.1 Finance Introduction\n",
    "total_cumulative_return = (df_Results.iloc[-1]-df_Results.iloc[1])*100\n",
    "total_cumulative_return"
   ]
  },
  {
   "cell_type": "code",
   "execution_count": 4,
   "metadata": {},
   "outputs": [
    {
     "data": {
      "text/plain": [
       "Market Cap    22.713196\n",
       "Employees     25.384419\n",
       "Book Value    25.827645\n",
       "Equal         24.502179\n",
       "Random        22.861288\n",
       "Variance       5.952471\n",
       "Sales         24.769621\n",
       "Custom        24.756584\n",
       "dtype: object"
      ]
     },
     "execution_count": 4,
     "metadata": {},
     "output_type": "execute_result"
    }
   ],
   "source": [
    "# Based on 3.1 Finance Introduction\n",
    "mean_yearly_return = (((1+(total_cumulative_return/100)))**(1/10)-1)*100\n",
    "mean_yearly_return"
   ]
  },
  {
   "cell_type": "code",
   "execution_count": 5,
   "metadata": {},
   "outputs": [
    {
     "data": {
      "text/html": [
       "<div>\n",
       "<style scoped>\n",
       "    .dataframe tbody tr th:only-of-type {\n",
       "        vertical-align: middle;\n",
       "    }\n",
       "\n",
       "    .dataframe tbody tr th {\n",
       "        vertical-align: top;\n",
       "    }\n",
       "\n",
       "    .dataframe thead th {\n",
       "        text-align: right;\n",
       "    }\n",
       "</style>\n",
       "<table border=\"1\" class=\"dataframe\">\n",
       "  <thead>\n",
       "    <tr style=\"text-align: right;\">\n",
       "      <th></th>\n",
       "      <th>Market Cap</th>\n",
       "      <th>Employees</th>\n",
       "      <th>Book Value</th>\n",
       "      <th>Equal</th>\n",
       "      <th>Random</th>\n",
       "      <th>Variance</th>\n",
       "      <th>Sales</th>\n",
       "      <th>Custom</th>\n",
       "    </tr>\n",
       "  </thead>\n",
       "  <tbody>\n",
       "    <tr>\n",
       "      <th>1996-01-31</th>\n",
       "      <td>5.573161</td>\n",
       "      <td>3.734411</td>\n",
       "      <td>2.762652</td>\n",
       "      <td>0.793015</td>\n",
       "      <td>2.215978</td>\n",
       "      <td>-2.489193</td>\n",
       "      <td>2.529567</td>\n",
       "      <td>2.489315</td>\n",
       "    </tr>\n",
       "    <tr>\n",
       "      <th>1996-02-29</th>\n",
       "      <td>0.842857</td>\n",
       "      <td>1.248215</td>\n",
       "      <td>1.468301</td>\n",
       "      <td>1.927407</td>\n",
       "      <td>1.593952</td>\n",
       "      <td>2.733667</td>\n",
       "      <td>1.521711</td>\n",
       "      <td>1.530959</td>\n",
       "    </tr>\n",
       "    <tr>\n",
       "      <th>1996-03-31</th>\n",
       "      <td>-2.601658</td>\n",
       "      <td>-1.93236</td>\n",
       "      <td>-1.57121</td>\n",
       "      <td>-0.82286</td>\n",
       "      <td>-1.365724</td>\n",
       "      <td>0.475171</td>\n",
       "      <td>-1.483803</td>\n",
       "      <td>-1.468677</td>\n",
       "    </tr>\n",
       "    <tr>\n",
       "      <th>1996-04-30</th>\n",
       "      <td>0.675964</td>\n",
       "      <td>0.627619</td>\n",
       "      <td>0.601806</td>\n",
       "      <td>0.548916</td>\n",
       "      <td>0.587203</td>\n",
       "      <td>0.459045</td>\n",
       "      <td>0.595587</td>\n",
       "      <td>0.594512</td>\n",
       "    </tr>\n",
       "    <tr>\n",
       "      <th>1996-05-31</th>\n",
       "      <td>9.309816</td>\n",
       "      <td>9.269007</td>\n",
       "      <td>9.247201</td>\n",
       "      <td>9.202487</td>\n",
       "      <td>9.234861</td>\n",
       "      <td>9.126401</td>\n",
       "      <td>9.241946</td>\n",
       "      <td>9.241038</td>\n",
       "    </tr>\n",
       "  </tbody>\n",
       "</table>\n",
       "</div>"
      ],
      "text/plain": [
       "           Market Cap Employees Book Value     Equal    Random  Variance  \\\n",
       "1996-01-31   5.573161  3.734411   2.762652  0.793015  2.215978 -2.489193   \n",
       "1996-02-29   0.842857  1.248215   1.468301  1.927407  1.593952  2.733667   \n",
       "1996-03-31  -2.601658  -1.93236   -1.57121  -0.82286 -1.365724  0.475171   \n",
       "1996-04-30   0.675964  0.627619   0.601806  0.548916  0.587203  0.459045   \n",
       "1996-05-31   9.309816  9.269007   9.247201  9.202487  9.234861  9.126401   \n",
       "\n",
       "               Sales    Custom  \n",
       "1996-01-31  2.529567  2.489315  \n",
       "1996-02-29  1.521711  1.530959  \n",
       "1996-03-31 -1.483803 -1.468677  \n",
       "1996-04-30  0.595587  0.594512  \n",
       "1996-05-31  9.241946  9.241038  "
      ]
     },
     "execution_count": 5,
     "metadata": {},
     "output_type": "execute_result"
    }
   ],
   "source": [
    "df_Returns_Strat = df_Results.pct_change(fill_method=None)*100\n",
    "df_Returns_Strat.dropna(axis=0, inplace=True)\n",
    "df_Returns_Strat.head(5)"
   ]
  },
  {
   "cell_type": "code",
   "execution_count": 6,
   "metadata": {},
   "outputs": [
    {
     "data": {
      "text/plain": [
       "Market Cap    5.653683\n",
       "Employees     5.957906\n",
       "Book Value    5.813626\n",
       "Equal         4.544852\n",
       "Random        4.635194\n",
       "Variance       4.96243\n",
       "Sales         5.982169\n",
       "Custom          4.9764\n",
       "dtype: object"
      ]
     },
     "execution_count": 6,
     "metadata": {},
     "output_type": "execute_result"
    }
   ],
   "source": [
    "monthly_vol = np.std(df_Returns_Strat, axis=0)\n",
    "monthly_vol"
   ]
  },
  {
   "cell_type": "code",
   "execution_count": 7,
   "metadata": {},
   "outputs": [
    {
     "data": {
      "text/html": [
       "<div>\n",
       "<style scoped>\n",
       "    .dataframe tbody tr th:only-of-type {\n",
       "        vertical-align: middle;\n",
       "    }\n",
       "\n",
       "    .dataframe tbody tr th {\n",
       "        vertical-align: top;\n",
       "    }\n",
       "\n",
       "    .dataframe thead th {\n",
       "        text-align: right;\n",
       "    }\n",
       "</style>\n",
       "<table border=\"1\" class=\"dataframe\">\n",
       "  <thead>\n",
       "    <tr style=\"text-align: right;\">\n",
       "      <th></th>\n",
       "      <th>Zuletzt</th>\n",
       "      <th>Eröffn.</th>\n",
       "      <th>Hoch</th>\n",
       "      <th>Tief</th>\n",
       "      <th>+/- %</th>\n",
       "    </tr>\n",
       "    <tr>\n",
       "      <th>Datum</th>\n",
       "      <th></th>\n",
       "      <th></th>\n",
       "      <th></th>\n",
       "      <th></th>\n",
       "      <th></th>\n",
       "    </tr>\n",
       "  </thead>\n",
       "  <tbody>\n",
       "    <tr>\n",
       "      <th>2021-12-01</th>\n",
       "      <td>-0.179</td>\n",
       "      <td>-0,3490</td>\n",
       "      <td>-0,1710</td>\n",
       "      <td>-0,4090</td>\n",
       "      <td>-47,81%</td>\n",
       "    </tr>\n",
       "    <tr>\n",
       "      <th>2021-11-01</th>\n",
       "      <td>-0.343</td>\n",
       "      <td>-0,1100</td>\n",
       "      <td>-0,0650</td>\n",
       "      <td>-0,3630</td>\n",
       "      <td>264,89%</td>\n",
       "    </tr>\n",
       "    <tr>\n",
       "      <th>2021-10-01</th>\n",
       "      <td>-0.094</td>\n",
       "      <td>-0,1970</td>\n",
       "      <td>-0,0640</td>\n",
       "      <td>-0,2430</td>\n",
       "      <td>-50,79%</td>\n",
       "    </tr>\n",
       "    <tr>\n",
       "      <th>2021-09-01</th>\n",
       "      <td>-0.191</td>\n",
       "      <td>-0,3730</td>\n",
       "      <td>-0,1720</td>\n",
       "      <td>-0,4010</td>\n",
       "      <td>-49,74%</td>\n",
       "    </tr>\n",
       "    <tr>\n",
       "      <th>2021-08-01</th>\n",
       "      <td>-0.38</td>\n",
       "      <td>-0,4590</td>\n",
       "      <td>-0,3760</td>\n",
       "      <td>-0,5240</td>\n",
       "      <td>-17,03%</td>\n",
       "    </tr>\n",
       "  </tbody>\n",
       "</table>\n",
       "</div>"
      ],
      "text/plain": [
       "           Zuletzt  Eröffn.     Hoch     Tief    +/- %\n",
       "Datum                                                 \n",
       "2021-12-01  -0.179  -0,3490  -0,1710  -0,4090  -47,81%\n",
       "2021-11-01  -0.343  -0,1100  -0,0650  -0,3630  264,89%\n",
       "2021-10-01  -0.094  -0,1970  -0,0640  -0,2430  -50,79%\n",
       "2021-09-01  -0.191  -0,3730  -0,1720  -0,4010  -49,74%\n",
       "2021-08-01   -0.38  -0,4590  -0,3760  -0,5240  -17,03%"
      ]
     },
     "execution_count": 7,
     "metadata": {},
     "output_type": "execute_result"
    }
   ],
   "source": [
    "# Read yearly return of DE 10 Year Bound reported monthly\n",
    "DE10Y = pd.read_csv(\"RawData/DE10Y.csv\", index_col=\"Datum\")\n",
    "DE10Y.index = pd.to_datetime(DE10Y.index, dayfirst=True)\n",
    "DE10Y = DE10Y[(DE10Y.index >= df_Results.index[1]) & (DE10Y.index <= df_Results.index[-1])]\n",
    "for row in DE10Y.index:\n",
    "    string = DE10Y.loc[row, \"Zuletzt\"].strip(\"%\").replace(\".\", \"\").replace(\",\", \".\")\n",
    "    DE10Y.at[row, \"Zuletzt\"] = float(string)\n",
    "DE10Y.head(5)"
   ]
  },
  {
   "cell_type": "code",
   "execution_count": 8,
   "metadata": {},
   "outputs": [
    {
     "data": {
      "text/plain": [
       "2.7818504823151122"
      ]
     },
     "execution_count": 8,
     "metadata": {},
     "output_type": "execute_result"
    }
   ],
   "source": [
    "# Based on 3.1 Finance Introduction\n",
    "risk_free_return = np.mean(DE10Y[\"Zuletzt\"])\n",
    "risk_free_return"
   ]
  },
  {
   "cell_type": "code",
   "execution_count": 9,
   "metadata": {},
   "outputs": [
    {
     "data": {
      "text/plain": [
       "Market Cap    3.525374\n",
       "Employees     3.793710\n",
       "Book Value    3.964100\n",
       "Equal         4.779106\n",
       "Random        4.331951\n",
       "Variance      0.638925\n",
       "Sales         3.675552\n",
       "Custom        4.415789\n",
       "dtype: float64"
      ]
     },
     "execution_count": 9,
     "metadata": {},
     "output_type": "execute_result"
    }
   ],
   "source": [
    "# Based on 3.1 Finance Introduction\n",
    "sharpe_ratio = pd.Series(index=df_Results.columns)\n",
    "for strategy in mean_yearly_return.index:\n",
    "    sharpe_ratio[strategy] = (mean_yearly_return[strategy] - risk_free_return) / monthly_vol[strategy]\n",
    "sharpe_ratio"
   ]
  },
  {
   "cell_type": "code",
   "execution_count": 10,
   "metadata": {},
   "outputs": [
    {
     "data": {
      "text/plain": [
       "Market Cap   -20.740740\n",
       "Employees    -24.058432\n",
       "Book Value   -19.562298\n",
       "Equal        -15.435536\n",
       "Random       -15.325528\n",
       "Variance     -27.235294\n",
       "Sales        -23.165740\n",
       "Custom       -17.396675\n",
       "dtype: float64"
      ]
     },
     "execution_count": 10,
     "metadata": {},
     "output_type": "execute_result"
    }
   ],
   "source": [
    "# maximum monthly drawdown\n",
    "max_monthly_drawdown = pd.Series(index=df_Results.columns)\n",
    "for strategy in df_Returns_Strat.columns:\n",
    "    max_monthly_drawdown[strategy] = min(df_Returns_Strat[strategy])\n",
    "max_monthly_drawdown"
   ]
  },
  {
   "cell_type": "code",
   "execution_count": 11,
   "metadata": {},
   "outputs": [
    {
     "data": {
      "text/plain": [
       "Market Cap    189.0\n",
       "Employees     189.0\n",
       "Book Value    186.0\n",
       "Equal         199.0\n",
       "Random        198.0\n",
       "Variance      185.0\n",
       "Sales         188.0\n",
       "Custom        195.0\n",
       "dtype: float64"
      ]
     },
     "execution_count": 11,
     "metadata": {},
     "output_type": "execute_result"
    }
   ],
   "source": [
    "positive_month = pd.Series(index=df_Results.columns)\n",
    "for strategy in df_Returns_Strat.columns:\n",
    "    returns = df_Returns_Strat[strategy]\n",
    "    returns = returns[returns > 0]\n",
    "    positive_month[strategy] = len(returns)\n",
    "positive_month"
   ]
  },
  {
   "cell_type": "code",
   "execution_count": 12,
   "metadata": {},
   "outputs": [
    {
     "data": {
      "text/html": [
       "<div>\n",
       "<style scoped>\n",
       "    .dataframe tbody tr th:only-of-type {\n",
       "        vertical-align: middle;\n",
       "    }\n",
       "\n",
       "    .dataframe tbody tr th {\n",
       "        vertical-align: top;\n",
       "    }\n",
       "\n",
       "    .dataframe thead th {\n",
       "        text-align: right;\n",
       "    }\n",
       "</style>\n",
       "<table border=\"1\" class=\"dataframe\">\n",
       "  <thead>\n",
       "    <tr style=\"text-align: right;\">\n",
       "      <th></th>\n",
       "      <th>Total Cumulative Return</th>\n",
       "      <th>Mean Yearly Return</th>\n",
       "      <th>Volatility</th>\n",
       "      <th>Sharpe Ratio</th>\n",
       "      <th>Max Drawdown</th>\n",
       "      <th>Positive Month</th>\n",
       "    </tr>\n",
       "  </thead>\n",
       "  <tbody>\n",
       "    <tr>\n",
       "      <th>Market Cap</th>\n",
       "      <td>674.306066</td>\n",
       "      <td>22.713196</td>\n",
       "      <td>5.653683</td>\n",
       "      <td>3.525374</td>\n",
       "      <td>-20.740740</td>\n",
       "      <td>189.0</td>\n",
       "    </tr>\n",
       "    <tr>\n",
       "      <th>Employees</th>\n",
       "      <td>860.363668</td>\n",
       "      <td>25.384419</td>\n",
       "      <td>5.957906</td>\n",
       "      <td>3.793710</td>\n",
       "      <td>-24.058432</td>\n",
       "      <td>189.0</td>\n",
       "    </tr>\n",
       "    <tr>\n",
       "      <th>Book Value</th>\n",
       "      <td>894.857084</td>\n",
       "      <td>25.827645</td>\n",
       "      <td>5.813626</td>\n",
       "      <td>3.964100</td>\n",
       "      <td>-19.562298</td>\n",
       "      <td>186.0</td>\n",
       "    </tr>\n",
       "    <tr>\n",
       "      <th>Equal</th>\n",
       "      <td>794.8897</td>\n",
       "      <td>24.502179</td>\n",
       "      <td>4.544852</td>\n",
       "      <td>4.779106</td>\n",
       "      <td>-15.435536</td>\n",
       "      <td>199.0</td>\n",
       "    </tr>\n",
       "    <tr>\n",
       "      <th>Random</th>\n",
       "      <td>683.701402</td>\n",
       "      <td>22.861288</td>\n",
       "      <td>4.635194</td>\n",
       "      <td>4.331951</td>\n",
       "      <td>-15.325528</td>\n",
       "      <td>198.0</td>\n",
       "    </tr>\n",
       "    <tr>\n",
       "      <th>Variance</th>\n",
       "      <td>78.283396</td>\n",
       "      <td>5.952471</td>\n",
       "      <td>4.96243</td>\n",
       "      <td>0.638925</td>\n",
       "      <td>-27.235294</td>\n",
       "      <td>185.0</td>\n",
       "    </tr>\n",
       "    <tr>\n",
       "      <th>Sales</th>\n",
       "      <td>814.299696</td>\n",
       "      <td>24.769621</td>\n",
       "      <td>5.982169</td>\n",
       "      <td>3.675552</td>\n",
       "      <td>-23.165740</td>\n",
       "      <td>188.0</td>\n",
       "    </tr>\n",
       "    <tr>\n",
       "      <th>Custom</th>\n",
       "      <td>813.344756</td>\n",
       "      <td>24.756584</td>\n",
       "      <td>4.9764</td>\n",
       "      <td>4.415789</td>\n",
       "      <td>-17.396675</td>\n",
       "      <td>195.0</td>\n",
       "    </tr>\n",
       "  </tbody>\n",
       "</table>\n",
       "</div>"
      ],
      "text/plain": [
       "           Total Cumulative Return Mean Yearly Return Volatility  \\\n",
       "Market Cap              674.306066          22.713196   5.653683   \n",
       "Employees               860.363668          25.384419   5.957906   \n",
       "Book Value              894.857084          25.827645   5.813626   \n",
       "Equal                     794.8897          24.502179   4.544852   \n",
       "Random                  683.701402          22.861288   4.635194   \n",
       "Variance                 78.283396           5.952471    4.96243   \n",
       "Sales                   814.299696          24.769621   5.982169   \n",
       "Custom                  813.344756          24.756584     4.9764   \n",
       "\n",
       "            Sharpe Ratio  Max Drawdown  Positive Month  \n",
       "Market Cap      3.525374    -20.740740           189.0  \n",
       "Employees       3.793710    -24.058432           189.0  \n",
       "Book Value      3.964100    -19.562298           186.0  \n",
       "Equal           4.779106    -15.435536           199.0  \n",
       "Random          4.331951    -15.325528           198.0  \n",
       "Variance        0.638925    -27.235294           185.0  \n",
       "Sales           3.675552    -23.165740           188.0  \n",
       "Custom          4.415789    -17.396675           195.0  "
      ]
     },
     "execution_count": 12,
     "metadata": {},
     "output_type": "execute_result"
    }
   ],
   "source": [
    "df_Analysis = DataFrame(index=df_Results.columns)\n",
    "df_Analysis[\"Total Cumulative Return\"] = total_cumulative_return\n",
    "df_Analysis[\"Mean Yearly Return\"] = mean_yearly_return\n",
    "df_Analysis[\"Volatility\"] = monthly_vol\n",
    "df_Analysis[\"Sharpe Ratio\"] = sharpe_ratio\n",
    "df_Analysis[\"Max Drawdown\"] = max_monthly_drawdown\n",
    "df_Analysis[\"Positive Month\"] = positive_month\n",
    "df_Analysis.to_pickle(\"UsableData/Analysis.pkl\")\n",
    "df_Analysis"
   ]
  }
 ],
 "metadata": {
  "kernelspec": {
   "display_name": "Python 3",
   "language": "python",
   "name": "python3"
  },
  "language_info": {
   "codemirror_mode": {
    "name": "ipython",
    "version": 3
   },
   "file_extension": ".py",
   "mimetype": "text/x-python",
   "name": "python",
   "nbconvert_exporter": "python",
   "pygments_lexer": "ipython3",
   "version": "3.11.7"
  }
 },
 "nbformat": 4,
 "nbformat_minor": 2
}
