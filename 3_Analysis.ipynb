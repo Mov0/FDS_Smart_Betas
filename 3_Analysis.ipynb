{
 "cells": [
  {
   "cell_type": "code",
   "execution_count": 31,
   "metadata": {},
   "outputs": [],
   "source": [
    "import pandas as pd\n",
    "import numpy as np\n",
    "import matplotlib.pyplot as plt\n",
    "from scipy.stats import gmean\n",
    "from pandas import DataFrame\n"
   ]
  },
  {
   "cell_type": "code",
   "execution_count": 32,
   "metadata": {},
   "outputs": [
    {
     "data": {
      "text/html": [
       "<div>\n",
       "<style scoped>\n",
       "    .dataframe tbody tr th:only-of-type {\n",
       "        vertical-align: middle;\n",
       "    }\n",
       "\n",
       "    .dataframe tbody tr th {\n",
       "        vertical-align: top;\n",
       "    }\n",
       "\n",
       "    .dataframe thead th {\n",
       "        text-align: right;\n",
       "    }\n",
       "</style>\n",
       "<table border=\"1\" class=\"dataframe\">\n",
       "  <thead>\n",
       "    <tr style=\"text-align: right;\">\n",
       "      <th></th>\n",
       "      <th>Market Cap</th>\n",
       "      <th>Employees</th>\n",
       "      <th>Book Value</th>\n",
       "      <th>Equal</th>\n",
       "      <th>Random</th>\n",
       "      <th>Variance</th>\n",
       "    </tr>\n",
       "  </thead>\n",
       "  <tbody>\n",
       "    <tr>\n",
       "      <th>1995-12-31</th>\n",
       "      <td>1</td>\n",
       "      <td>1</td>\n",
       "      <td>1</td>\n",
       "      <td>1</td>\n",
       "      <td>1</td>\n",
       "      <td>1</td>\n",
       "    </tr>\n",
       "    <tr>\n",
       "      <th>1996-01-31</th>\n",
       "      <td>1.055732</td>\n",
       "      <td>1.037344</td>\n",
       "      <td>1.027627</td>\n",
       "      <td>1.00793</td>\n",
       "      <td>1.007622</td>\n",
       "      <td>0.975108</td>\n",
       "    </tr>\n",
       "    <tr>\n",
       "      <th>1996-02-29</th>\n",
       "      <td>1.06463</td>\n",
       "      <td>1.050292</td>\n",
       "      <td>1.042715</td>\n",
       "      <td>1.027357</td>\n",
       "      <td>1.027117</td>\n",
       "      <td>1.001764</td>\n",
       "    </tr>\n",
       "    <tr>\n",
       "      <th>1996-03-31</th>\n",
       "      <td>1.036932</td>\n",
       "      <td>1.029997</td>\n",
       "      <td>1.026332</td>\n",
       "      <td>1.018903</td>\n",
       "      <td>1.018787</td>\n",
       "      <td>1.006524</td>\n",
       "    </tr>\n",
       "    <tr>\n",
       "      <th>1996-04-30</th>\n",
       "      <td>1.043941</td>\n",
       "      <td>1.036461</td>\n",
       "      <td>1.032508</td>\n",
       "      <td>1.024496</td>\n",
       "      <td>1.024371</td>\n",
       "      <td>1.011145</td>\n",
       "    </tr>\n",
       "  </tbody>\n",
       "</table>\n",
       "</div>"
      ],
      "text/plain": [
       "           Market Cap Employees Book Value     Equal    Random  Variance\n",
       "1995-12-31          1         1          1         1         1         1\n",
       "1996-01-31   1.055732  1.037344   1.027627   1.00793  1.007622  0.975108\n",
       "1996-02-29    1.06463  1.050292   1.042715  1.027357  1.027117  1.001764\n",
       "1996-03-31   1.036932  1.029997   1.026332  1.018903  1.018787  1.006524\n",
       "1996-04-30   1.043941  1.036461   1.032508  1.024496  1.024371  1.011145"
      ]
     },
     "execution_count": 32,
     "metadata": {},
     "output_type": "execute_result"
    }
   ],
   "source": [
    "df_Results = pd.read_pickle(\"UsableData/Results.pkl\")\n",
    "df_Results.head(5)"
   ]
  },
  {
   "cell_type": "code",
   "execution_count": 41,
   "metadata": {},
   "outputs": [
    {
     "data": {
      "text/plain": [
       "Market Cap    544.274363\n",
       "Employees     798.356717\n",
       "Book Value    660.385263\n",
       "Equal         879.591946\n",
       "Random        910.748051\n",
       "Variance      147.831215\n",
       "dtype: object"
      ]
     },
     "execution_count": 41,
     "metadata": {},
     "output_type": "execute_result"
    }
   ],
   "source": [
    "# Based on 3.1 Finance Introduction\n",
    "total_cumulative_return = (df_Results.iloc[-1]-df_Results.iloc[1])*100\n",
    "total_cumulative_return"
   ]
  },
  {
   "cell_type": "code",
   "execution_count": 42,
   "metadata": {},
   "outputs": [
    {
     "data": {
      "text/plain": [
       "Market Cap    20.477816\n",
       "Employees      24.55033\n",
       "Book Value    22.490771\n",
       "Equal         25.633229\n",
       "Random        26.027201\n",
       "Variance       9.500374\n",
       "dtype: object"
      ]
     },
     "execution_count": 42,
     "metadata": {},
     "output_type": "execute_result"
    }
   ],
   "source": [
    "# Based on 3.1 Finance Introduction\n",
    "mean_yearly_return = (((1+(total_cumulative_return/100)))**(1/10)-1)*100\n",
    "mean_yearly_return"
   ]
  },
  {
   "cell_type": "code",
   "execution_count": 34,
   "metadata": {},
   "outputs": [
    {
     "data": {
      "text/html": [
       "<div>\n",
       "<style scoped>\n",
       "    .dataframe tbody tr th:only-of-type {\n",
       "        vertical-align: middle;\n",
       "    }\n",
       "\n",
       "    .dataframe tbody tr th {\n",
       "        vertical-align: top;\n",
       "    }\n",
       "\n",
       "    .dataframe thead th {\n",
       "        text-align: right;\n",
       "    }\n",
       "</style>\n",
       "<table border=\"1\" class=\"dataframe\">\n",
       "  <thead>\n",
       "    <tr style=\"text-align: right;\">\n",
       "      <th></th>\n",
       "      <th>Market Cap</th>\n",
       "      <th>Employees</th>\n",
       "      <th>Book Value</th>\n",
       "      <th>Equal</th>\n",
       "      <th>Random</th>\n",
       "      <th>Variance</th>\n",
       "    </tr>\n",
       "  </thead>\n",
       "  <tbody>\n",
       "    <tr>\n",
       "      <th>1996-01-31</th>\n",
       "      <td>5.573161</td>\n",
       "      <td>3.734411</td>\n",
       "      <td>2.762652</td>\n",
       "      <td>0.793015</td>\n",
       "      <td>0.762178</td>\n",
       "      <td>-2.489193</td>\n",
       "    </tr>\n",
       "    <tr>\n",
       "      <th>1996-02-29</th>\n",
       "      <td>0.842857</td>\n",
       "      <td>1.248215</td>\n",
       "      <td>1.468301</td>\n",
       "      <td>1.927407</td>\n",
       "      <td>1.934737</td>\n",
       "      <td>2.733667</td>\n",
       "    </tr>\n",
       "    <tr>\n",
       "      <th>1996-03-31</th>\n",
       "      <td>-2.601658</td>\n",
       "      <td>-1.932360</td>\n",
       "      <td>-1.571210</td>\n",
       "      <td>-0.822860</td>\n",
       "      <td>-0.810965</td>\n",
       "      <td>0.475171</td>\n",
       "    </tr>\n",
       "    <tr>\n",
       "      <th>1996-04-30</th>\n",
       "      <td>0.675964</td>\n",
       "      <td>0.627619</td>\n",
       "      <td>0.601806</td>\n",
       "      <td>0.548916</td>\n",
       "      <td>0.548082</td>\n",
       "      <td>0.459045</td>\n",
       "    </tr>\n",
       "    <tr>\n",
       "      <th>1996-05-31</th>\n",
       "      <td>9.309816</td>\n",
       "      <td>9.269007</td>\n",
       "      <td>9.247201</td>\n",
       "      <td>9.202487</td>\n",
       "      <td>9.201782</td>\n",
       "      <td>9.126401</td>\n",
       "    </tr>\n",
       "  </tbody>\n",
       "</table>\n",
       "</div>"
      ],
      "text/plain": [
       "            Market Cap  Employees  Book Value     Equal    Random  Variance\n",
       "1996-01-31    5.573161   3.734411    2.762652  0.793015  0.762178 -2.489193\n",
       "1996-02-29    0.842857   1.248215    1.468301  1.927407  1.934737  2.733667\n",
       "1996-03-31   -2.601658  -1.932360   -1.571210 -0.822860 -0.810965  0.475171\n",
       "1996-04-30    0.675964   0.627619    0.601806  0.548916  0.548082  0.459045\n",
       "1996-05-31    9.309816   9.269007    9.247201  9.202487  9.201782  9.126401"
      ]
     },
     "execution_count": 34,
     "metadata": {},
     "output_type": "execute_result"
    }
   ],
   "source": [
    "df_Returns_Strat = df_Results.pct_change()*100\n",
    "df_Returns_Strat.dropna(axis=0, inplace=True)\n",
    "df_Returns_Strat.head(5)"
   ]
  },
  {
   "cell_type": "code",
   "execution_count": 43,
   "metadata": {},
   "outputs": [
    {
     "data": {
      "text/plain": [
       "Market Cap    5.722701\n",
       "Employees     6.003602\n",
       "Book Value    6.051144\n",
       "Equal         4.563035\n",
       "Random        4.577106\n",
       "Variance      4.909149\n",
       "dtype: float64"
      ]
     },
     "execution_count": 43,
     "metadata": {},
     "output_type": "execute_result"
    }
   ],
   "source": [
    "monthly_vol = np.std(df_Returns_Strat, axis=0)\n",
    "monthly_vol"
   ]
  },
  {
   "cell_type": "code",
   "execution_count": 44,
   "metadata": {},
   "outputs": [
    {
     "data": {
      "text/html": [
       "<div>\n",
       "<style scoped>\n",
       "    .dataframe tbody tr th:only-of-type {\n",
       "        vertical-align: middle;\n",
       "    }\n",
       "\n",
       "    .dataframe tbody tr th {\n",
       "        vertical-align: top;\n",
       "    }\n",
       "\n",
       "    .dataframe thead th {\n",
       "        text-align: right;\n",
       "    }\n",
       "</style>\n",
       "<table border=\"1\" class=\"dataframe\">\n",
       "  <thead>\n",
       "    <tr style=\"text-align: right;\">\n",
       "      <th></th>\n",
       "      <th>Zuletzt</th>\n",
       "      <th>Eröffn.</th>\n",
       "      <th>Hoch</th>\n",
       "      <th>Tief</th>\n",
       "      <th>+/- %</th>\n",
       "    </tr>\n",
       "    <tr>\n",
       "      <th>Datum</th>\n",
       "      <th></th>\n",
       "      <th></th>\n",
       "      <th></th>\n",
       "      <th></th>\n",
       "      <th></th>\n",
       "    </tr>\n",
       "  </thead>\n",
       "  <tbody>\n",
       "    <tr>\n",
       "      <th>2021-12-01</th>\n",
       "      <td>-0.179</td>\n",
       "      <td>-0,3490</td>\n",
       "      <td>-0,1710</td>\n",
       "      <td>-0,4090</td>\n",
       "      <td>-47,81%</td>\n",
       "    </tr>\n",
       "    <tr>\n",
       "      <th>2021-11-01</th>\n",
       "      <td>-0.343</td>\n",
       "      <td>-0,1100</td>\n",
       "      <td>-0,0650</td>\n",
       "      <td>-0,3630</td>\n",
       "      <td>264,89%</td>\n",
       "    </tr>\n",
       "    <tr>\n",
       "      <th>2021-10-01</th>\n",
       "      <td>-0.094</td>\n",
       "      <td>-0,1970</td>\n",
       "      <td>-0,0640</td>\n",
       "      <td>-0,2430</td>\n",
       "      <td>-50,79%</td>\n",
       "    </tr>\n",
       "    <tr>\n",
       "      <th>2021-09-01</th>\n",
       "      <td>-0.191</td>\n",
       "      <td>-0,3730</td>\n",
       "      <td>-0,1720</td>\n",
       "      <td>-0,4010</td>\n",
       "      <td>-49,74%</td>\n",
       "    </tr>\n",
       "    <tr>\n",
       "      <th>2021-08-01</th>\n",
       "      <td>-0.38</td>\n",
       "      <td>-0,4590</td>\n",
       "      <td>-0,3760</td>\n",
       "      <td>-0,5240</td>\n",
       "      <td>-17,03%</td>\n",
       "    </tr>\n",
       "  </tbody>\n",
       "</table>\n",
       "</div>"
      ],
      "text/plain": [
       "           Zuletzt  Eröffn.     Hoch     Tief    +/- %\n",
       "Datum                                                 \n",
       "2021-12-01  -0.179  -0,3490  -0,1710  -0,4090  -47,81%\n",
       "2021-11-01  -0.343  -0,1100  -0,0650  -0,3630  264,89%\n",
       "2021-10-01  -0.094  -0,1970  -0,0640  -0,2430  -50,79%\n",
       "2021-09-01  -0.191  -0,3730  -0,1720  -0,4010  -49,74%\n",
       "2021-08-01   -0.38  -0,4590  -0,3760  -0,5240  -17,03%"
      ]
     },
     "execution_count": 44,
     "metadata": {},
     "output_type": "execute_result"
    }
   ],
   "source": [
    "# Read yearly return of DE 10 Year Bound reported monthly\n",
    "DE10Y = pd.read_csv(\"RawData/DE10Y.csv\", index_col=\"Datum\")\n",
    "DE10Y.index = pd.to_datetime(DE10Y.index, dayfirst=True)\n",
    "DE10Y = DE10Y[(DE10Y.index >= df_Results.index[1]) & (DE10Y.index <= df_Results.index[-1])]\n",
    "for row in DE10Y.index:\n",
    "    string = DE10Y.loc[row, \"Zuletzt\"].strip(\"%\").replace(\".\", \"\").replace(\",\", \".\")\n",
    "    DE10Y.at[row, \"Zuletzt\"] = float(string)\n",
    "DE10Y.head(5)"
   ]
  },
  {
   "cell_type": "code",
   "execution_count": 46,
   "metadata": {},
   "outputs": [
    {
     "data": {
      "text/plain": [
       "2.7818504823151122"
      ]
     },
     "execution_count": 46,
     "metadata": {},
     "output_type": "execute_result"
    }
   ],
   "source": [
    "# Based on 3.1 Finance Introduction\n",
    "risk_free_return = np.mean(DE10Y[\"Zuletzt\"])\n",
    "risk_free_return"
   ]
  },
  {
   "cell_type": "code",
   "execution_count": 47,
   "metadata": {},
   "outputs": [
    {
     "data": {
      "text/plain": [
       "Market Cap    3.092240\n",
       "Employees     3.625903\n",
       "Book Value    3.257057\n",
       "Equal         5.007934\n",
       "Random        5.078613\n",
       "Variance      1.368572\n",
       "dtype: float64"
      ]
     },
     "execution_count": 47,
     "metadata": {},
     "output_type": "execute_result"
    }
   ],
   "source": [
    "# Based on 3.1 Finance Introduction\n",
    "sharpe_ratio = pd.Series(index=df_Results.columns)\n",
    "for strategy in mean_yearly_return.index:\n",
    "    sharpe_ratio[strategy] = (mean_yearly_return[strategy] - risk_free_return) / monthly_vol[strategy]\n",
    "sharpe_ratio"
   ]
  },
  {
   "cell_type": "code",
   "execution_count": 48,
   "metadata": {},
   "outputs": [
    {
     "data": {
      "text/plain": [
       "Market Cap   -22.348892\n",
       "Employees    -24.473774\n",
       "Book Value   -22.915366\n",
       "Equal        -15.604835\n",
       "Random       -16.063150\n",
       "Variance     -27.235294\n",
       "dtype: float64"
      ]
     },
     "execution_count": 48,
     "metadata": {},
     "output_type": "execute_result"
    }
   ],
   "source": [
    "# maximum monthly drawdown\n",
    "max_monthly_drawdown = pd.Series(index=df_Results.columns)\n",
    "for strategy in df_Returns_Strat.columns:\n",
    "    max_monthly_drawdown[strategy] = min(df_Returns_Strat[strategy])\n",
    "max_monthly_drawdown"
   ]
  },
  {
   "cell_type": "code",
   "execution_count": 49,
   "metadata": {},
   "outputs": [
    {
     "data": {
      "text/plain": [
       "Market Cap    186.0\n",
       "Employees     189.0\n",
       "Book Value    184.0\n",
       "Equal         200.0\n",
       "Random        201.0\n",
       "Variance      189.0\n",
       "dtype: float64"
      ]
     },
     "execution_count": 49,
     "metadata": {},
     "output_type": "execute_result"
    }
   ],
   "source": [
    "positive_month = pd.Series(index=df_Results.columns)\n",
    "for strategy in df_Returns_Strat.columns:\n",
    "    returns = df_Returns_Strat[strategy]\n",
    "    returns = returns[returns > 0]\n",
    "    positive_month[strategy] = len(returns)\n",
    "positive_month"
   ]
  },
  {
   "cell_type": "code",
   "execution_count": 50,
   "metadata": {},
   "outputs": [
    {
     "data": {
      "text/html": [
       "<div>\n",
       "<style scoped>\n",
       "    .dataframe tbody tr th:only-of-type {\n",
       "        vertical-align: middle;\n",
       "    }\n",
       "\n",
       "    .dataframe tbody tr th {\n",
       "        vertical-align: top;\n",
       "    }\n",
       "\n",
       "    .dataframe thead th {\n",
       "        text-align: right;\n",
       "    }\n",
       "</style>\n",
       "<table border=\"1\" class=\"dataframe\">\n",
       "  <thead>\n",
       "    <tr style=\"text-align: right;\">\n",
       "      <th></th>\n",
       "      <th>Total Cumulative Return</th>\n",
       "      <th>Mean Yearly Return</th>\n",
       "      <th>Volatility</th>\n",
       "      <th>Sharpe Ratio</th>\n",
       "      <th>Max Drawdown</th>\n",
       "      <th>Positive Month</th>\n",
       "    </tr>\n",
       "  </thead>\n",
       "  <tbody>\n",
       "    <tr>\n",
       "      <th>Market Cap</th>\n",
       "      <td>544.274363</td>\n",
       "      <td>20.477816</td>\n",
       "      <td>5.722701</td>\n",
       "      <td>3.092240</td>\n",
       "      <td>-22.348892</td>\n",
       "      <td>186.0</td>\n",
       "    </tr>\n",
       "    <tr>\n",
       "      <th>Employees</th>\n",
       "      <td>798.356717</td>\n",
       "      <td>24.55033</td>\n",
       "      <td>6.003602</td>\n",
       "      <td>3.625903</td>\n",
       "      <td>-24.473774</td>\n",
       "      <td>189.0</td>\n",
       "    </tr>\n",
       "    <tr>\n",
       "      <th>Book Value</th>\n",
       "      <td>660.385263</td>\n",
       "      <td>22.490771</td>\n",
       "      <td>6.051144</td>\n",
       "      <td>3.257057</td>\n",
       "      <td>-22.915366</td>\n",
       "      <td>184.0</td>\n",
       "    </tr>\n",
       "    <tr>\n",
       "      <th>Equal</th>\n",
       "      <td>879.591946</td>\n",
       "      <td>25.633229</td>\n",
       "      <td>4.563035</td>\n",
       "      <td>5.007934</td>\n",
       "      <td>-15.604835</td>\n",
       "      <td>200.0</td>\n",
       "    </tr>\n",
       "    <tr>\n",
       "      <th>Random</th>\n",
       "      <td>910.748051</td>\n",
       "      <td>26.027201</td>\n",
       "      <td>4.577106</td>\n",
       "      <td>5.078613</td>\n",
       "      <td>-16.063150</td>\n",
       "      <td>201.0</td>\n",
       "    </tr>\n",
       "    <tr>\n",
       "      <th>Variance</th>\n",
       "      <td>147.831215</td>\n",
       "      <td>9.500374</td>\n",
       "      <td>4.909149</td>\n",
       "      <td>1.368572</td>\n",
       "      <td>-27.235294</td>\n",
       "      <td>189.0</td>\n",
       "    </tr>\n",
       "  </tbody>\n",
       "</table>\n",
       "</div>"
      ],
      "text/plain": [
       "           Total Cumulative Return Mean Yearly Return  Volatility  \\\n",
       "Market Cap              544.274363          20.477816    5.722701   \n",
       "Employees               798.356717           24.55033    6.003602   \n",
       "Book Value              660.385263          22.490771    6.051144   \n",
       "Equal                   879.591946          25.633229    4.563035   \n",
       "Random                  910.748051          26.027201    4.577106   \n",
       "Variance                147.831215           9.500374    4.909149   \n",
       "\n",
       "            Sharpe Ratio  Max Drawdown  Positive Month  \n",
       "Market Cap      3.092240    -22.348892           186.0  \n",
       "Employees       3.625903    -24.473774           189.0  \n",
       "Book Value      3.257057    -22.915366           184.0  \n",
       "Equal           5.007934    -15.604835           200.0  \n",
       "Random          5.078613    -16.063150           201.0  \n",
       "Variance        1.368572    -27.235294           189.0  "
      ]
     },
     "execution_count": 50,
     "metadata": {},
     "output_type": "execute_result"
    }
   ],
   "source": [
    "df_Analysis = DataFrame(index=df_Results.columns)\n",
    "df_Analysis[\"Total Cumulative Return\"] = total_cumulative_return\n",
    "df_Analysis[\"Mean Yearly Return\"] = mean_yearly_return\n",
    "df_Analysis[\"Volatility\"] = monthly_vol\n",
    "df_Analysis[\"Sharpe Ratio\"] = sharpe_ratio\n",
    "df_Analysis[\"Max Drawdown\"] = max_monthly_drawdown\n",
    "df_Analysis[\"Positive Month\"] = positive_month\n",
    "df_Analysis.to_pickle(\"UsableData/Analysis.pkl\")\n",
    "df_Analysis"
   ]
  }
 ],
 "metadata": {
  "kernelspec": {
   "display_name": "Python 3",
   "language": "python",
   "name": "python3"
  },
  "language_info": {
   "codemirror_mode": {
    "name": "ipython",
    "version": 3
   },
   "file_extension": ".py",
   "mimetype": "text/x-python",
   "name": "python",
   "nbconvert_exporter": "python",
   "pygments_lexer": "ipython3",
   "version": "3.11.7"
  }
 },
 "nbformat": 4,
 "nbformat_minor": 2
}
