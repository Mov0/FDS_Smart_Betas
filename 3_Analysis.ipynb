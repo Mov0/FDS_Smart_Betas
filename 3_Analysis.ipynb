{
 "cells": [
  {
   "cell_type": "code",
   "execution_count": 3,
   "metadata": {},
   "outputs": [],
   "source": [
    "import pandas as pd\n",
    "import numpy as np\n",
    "import matplotlib.pyplot as plt\n",
    "from statistics import stdev\n",
    "from scipy.stats import gmean\n"
   ]
  },
  {
   "cell_type": "code",
   "execution_count": 4,
   "metadata": {},
   "outputs": [
    {
     "data": {
      "text/html": [
       "<div>\n",
       "<style scoped>\n",
       "    .dataframe tbody tr th:only-of-type {\n",
       "        vertical-align: middle;\n",
       "    }\n",
       "\n",
       "    .dataframe tbody tr th {\n",
       "        vertical-align: top;\n",
       "    }\n",
       "\n",
       "    .dataframe thead th {\n",
       "        text-align: right;\n",
       "    }\n",
       "</style>\n",
       "<table border=\"1\" class=\"dataframe\">\n",
       "  <thead>\n",
       "    <tr style=\"text-align: right;\">\n",
       "      <th></th>\n",
       "      <th>Market Cap</th>\n",
       "      <th>Employees</th>\n",
       "      <th>Book Value</th>\n",
       "      <th>Equal</th>\n",
       "      <th>Random</th>\n",
       "      <th>Variance</th>\n",
       "    </tr>\n",
       "  </thead>\n",
       "  <tbody>\n",
       "    <tr>\n",
       "      <th>1995-12-31</th>\n",
       "      <td>1</td>\n",
       "      <td>1</td>\n",
       "      <td>1</td>\n",
       "      <td>1</td>\n",
       "      <td>1</td>\n",
       "      <td>1</td>\n",
       "    </tr>\n",
       "    <tr>\n",
       "      <th>1996-01-31</th>\n",
       "      <td>1.055732</td>\n",
       "      <td>1.037344</td>\n",
       "      <td>1.027627</td>\n",
       "      <td>1.00793</td>\n",
       "      <td>1.007622</td>\n",
       "      <td>0.975108</td>\n",
       "    </tr>\n",
       "    <tr>\n",
       "      <th>1996-02-29</th>\n",
       "      <td>1.06463</td>\n",
       "      <td>1.050292</td>\n",
       "      <td>1.042715</td>\n",
       "      <td>1.027357</td>\n",
       "      <td>1.027117</td>\n",
       "      <td>1.001764</td>\n",
       "    </tr>\n",
       "    <tr>\n",
       "      <th>1996-03-31</th>\n",
       "      <td>1.036932</td>\n",
       "      <td>1.029997</td>\n",
       "      <td>1.026332</td>\n",
       "      <td>1.018903</td>\n",
       "      <td>1.018787</td>\n",
       "      <td>1.006524</td>\n",
       "    </tr>\n",
       "    <tr>\n",
       "      <th>1996-04-30</th>\n",
       "      <td>1.043941</td>\n",
       "      <td>1.036461</td>\n",
       "      <td>1.032508</td>\n",
       "      <td>1.024496</td>\n",
       "      <td>1.024371</td>\n",
       "      <td>1.011145</td>\n",
       "    </tr>\n",
       "    <tr>\n",
       "      <th>...</th>\n",
       "      <td>...</td>\n",
       "      <td>...</td>\n",
       "      <td>...</td>\n",
       "      <td>...</td>\n",
       "      <td>...</td>\n",
       "      <td>...</td>\n",
       "    </tr>\n",
       "    <tr>\n",
       "      <th>2021-08-31</th>\n",
       "      <td>6.583841</td>\n",
       "      <td>9.337719</td>\n",
       "      <td>7.591342</td>\n",
       "      <td>9.929669</td>\n",
       "      <td>10.303173</td>\n",
       "      <td>2.570162</td>\n",
       "    </tr>\n",
       "    <tr>\n",
       "      <th>2021-09-30</th>\n",
       "      <td>6.363336</td>\n",
       "      <td>9.025859</td>\n",
       "      <td>7.4682</td>\n",
       "      <td>9.780987</td>\n",
       "      <td>10.177834</td>\n",
       "      <td>2.568736</td>\n",
       "    </tr>\n",
       "    <tr>\n",
       "      <th>2021-10-31</th>\n",
       "      <td>6.45742</td>\n",
       "      <td>9.135159</td>\n",
       "      <td>7.642543</td>\n",
       "      <td>9.888591</td>\n",
       "      <td>10.256893</td>\n",
       "      <td>2.52851</td>\n",
       "    </tr>\n",
       "    <tr>\n",
       "      <th>2021-11-30</th>\n",
       "      <td>6.240315</td>\n",
       "      <td>8.609329</td>\n",
       "      <td>7.267196</td>\n",
       "      <td>9.593338</td>\n",
       "      <td>9.944711</td>\n",
       "      <td>2.433457</td>\n",
       "    </tr>\n",
       "    <tr>\n",
       "      <th>2021-12-31</th>\n",
       "      <td>6.498475</td>\n",
       "      <td>9.020911</td>\n",
       "      <td>7.631479</td>\n",
       "      <td>9.80385</td>\n",
       "      <td>10.115102</td>\n",
       "      <td>2.45342</td>\n",
       "    </tr>\n",
       "  </tbody>\n",
       "</table>\n",
       "<p>313 rows × 6 columns</p>\n",
       "</div>"
      ],
      "text/plain": [
       "           Market Cap Employees Book Value     Equal     Random  Variance\n",
       "1995-12-31          1         1          1         1          1         1\n",
       "1996-01-31   1.055732  1.037344   1.027627   1.00793   1.007622  0.975108\n",
       "1996-02-29    1.06463  1.050292   1.042715  1.027357   1.027117  1.001764\n",
       "1996-03-31   1.036932  1.029997   1.026332  1.018903   1.018787  1.006524\n",
       "1996-04-30   1.043941  1.036461   1.032508  1.024496   1.024371  1.011145\n",
       "...               ...       ...        ...       ...        ...       ...\n",
       "2021-08-31   6.583841  9.337719   7.591342  9.929669  10.303173  2.570162\n",
       "2021-09-30   6.363336  9.025859     7.4682  9.780987  10.177834  2.568736\n",
       "2021-10-31    6.45742  9.135159   7.642543  9.888591  10.256893   2.52851\n",
       "2021-11-30   6.240315  8.609329   7.267196  9.593338   9.944711  2.433457\n",
       "2021-12-31   6.498475  9.020911   7.631479   9.80385  10.115102   2.45342\n",
       "\n",
       "[313 rows x 6 columns]"
      ]
     },
     "execution_count": 4,
     "metadata": {},
     "output_type": "execute_result"
    }
   ],
   "source": [
    "df_results = pd.read_pickle(\"UsableData/Results.pkl\")\n",
    "df_returns = pd.read_pickle(\"UsableData/Returns.pkl\").T\n",
    "df_results"
   ]
  },
  {
   "cell_type": "code",
   "execution_count": 48,
   "metadata": {},
   "outputs": [
    {
     "data": {
      "text/plain": [
       "7.42824370122743"
      ]
     },
     "execution_count": 48,
     "metadata": {},
     "output_type": "execute_result"
    }
   ],
   "source": [
    "total_return = ((1+df_returns/100).prod()-1)*100\n",
    "#monthly\n",
    "monthly_mean = np.mean(df_returns)\n",
    "#yearly\n",
    "yearly_mean = monthly_mean*12"
   ]
  },
  {
   "cell_type": "code",
   "execution_count": 58,
   "metadata": {},
   "outputs": [
    {
     "data": {
      "text/plain": [
       "[33.86353890690275,\n",
       " 47.78780902336899,\n",
       " 41.43261409049228,\n",
       " 40.130082694952165,\n",
       " 40.936847006324356,\n",
       " 17.847266887150976]"
      ]
     },
     "execution_count": 58,
     "metadata": {},
     "output_type": "execute_result"
    }
   ],
   "source": [
    "#cumulative return in %\n",
    "cumulative_return=(df_results.sum(axis=0))\n",
    "total_return=(cumulative_return-1)/100 \n",
    "\n",
    "monthly_mean_results=[]\n",
    "yearly_mean_results=[]\n",
    "for i in range(0, df_results.shape[1]):\n",
    "    monthly_mean_results.append(np.mean(df_results[lambda df_results:df_results.columns[i]]))\n",
    "yearly_mean_results=[x*12 for x in monthly_mean_results]\n",
    "yearly_mean_results"
   ]
  },
  {
   "cell_type": "code",
   "execution_count": 8,
   "metadata": {},
   "outputs": [
    {
     "name": "stdout",
     "output_type": "stream",
     "text": [
      "The yearly return volatility is RIC\n",
      "BAYGn.DE                28.20\n",
      "DTEGn.DE                29.65\n",
      "MBGn.DE                 35.64\n",
      "ALVG.DE                 31.48\n",
      "SIEGn.DE                30.73\n",
      "                        ...  \n",
      "TCP.SG^C16               0.00\n",
      "DWH.VI^C20               7.82\n",
      "SIGN.VI^H21             71.98\n",
      "DE016013382=ISMA^D10      NaN\n",
      "IGY.BN^F20                NaN\n",
      "Length: 1720, dtype: float64%\n"
     ]
    }
   ],
   "source": [
    "# monthly volatility\n",
    "monthly_vol = np.std(df_returns)\n",
    "monthly_variance = monthly_vol**2\n",
    "\n",
    "# yearly volatility\n",
    "yearly_vol = monthly_vol*np.sqrt(12)\n",
    "yearly_variance = yearly_vol ** 2\n",
    "\n",
    "print('The yearly return volatility is '+str(round(yearly_vol,2)) +'%')"
   ]
  },
  {
   "cell_type": "code",
   "execution_count": 26,
   "metadata": {},
   "outputs": [
    {
     "data": {
      "text/plain": [
       "Market Cap    24.691394\n",
       "Employees      62.03788\n",
       "Book Value    35.776195\n",
       "Equal         52.597761\n",
       "Random        55.963741\n",
       "Variance        2.71089\n",
       "dtype: object"
      ]
     },
     "execution_count": 26,
     "metadata": {},
     "output_type": "execute_result"
    }
   ],
   "source": [
    "# monthly volatility\n",
    "monthly_vol = np.std(df_results)\n",
    "monthly_variance = monthly_vol**2\n",
    "\n",
    "# yearly volatility\n",
    "yearly_vol = monthly_vol*np.sqrt(12)\n",
    "yearly_variance = yearly_vol ** 2\n",
    "yearly_variance"
   ]
  },
  {
   "cell_type": "code",
   "execution_count": 27,
   "metadata": {},
   "outputs": [
    {
     "data": {
      "text/plain": [
       "Market Cap    1.494904\n",
       "Employees       0.9431\n",
       "Book Value    1.241907\n",
       "Equal         1.024242\n",
       "Random        0.992962\n",
       "Variance      4.511596\n",
       "dtype: object"
      ]
     },
     "execution_count": 27,
     "metadata": {},
     "output_type": "execute_result"
    }
   ],
   "source": [
    "#we don't have data for risk_free_rate ->average_rf=0\n",
    "\n",
    "#your_array=df_results.values\n",
    "#your_array = your_array.astype(float)\n",
    "#gmean(your_array)\n",
    "\n",
    "sharpe_ratio = (yearly_mean)/yearly_vol\n",
    "sharpe_ratio"
   ]
  },
  {
   "cell_type": "code",
   "execution_count": 143,
   "metadata": {},
   "outputs": [
    {
     "data": {
      "text/plain": [
       "[0.9147348795495525,\n",
       " 1,\n",
       " 1,\n",
       " 0.9068171980301019,\n",
       " 0.9380314723309011,\n",
       " 0.6801218781331257]"
      ]
     },
     "execution_count": 143,
     "metadata": {},
     "output_type": "execute_result"
    }
   ],
   "source": [
    "# maximum monthly drawdown\n",
    "max_monthly_drawdown=[]\n",
    "for i in range(0, df_results.shape[1]):\n",
    "    max_monthly_drawdown.append(min(df_results[lambda df_results:df_results.columns[i]]))\n",
    "max_monthly_drawdown"
   ]
  },
  {
   "cell_type": "code",
   "execution_count": null,
   "metadata": {},
   "outputs": [],
   "source": []
  }
 ],
 "metadata": {
  "kernelspec": {
   "display_name": "Python 3",
   "language": "python",
   "name": "python3"
  },
  "language_info": {
   "codemirror_mode": {
    "name": "ipython",
    "version": 3
   },
   "file_extension": ".py",
   "mimetype": "text/x-python",
   "name": "python",
   "nbconvert_exporter": "python",
   "pygments_lexer": "ipython3",
   "version": "3.8.10"
  }
 },
 "nbformat": 4,
 "nbformat_minor": 2
}
