{
 "cells": [
  {
   "cell_type": "code",
   "execution_count": 27,
   "metadata": {},
   "outputs": [],
   "source": [
    "import pandas as pd\n",
    "import numpy as np\n",
    "import matplotlib.pyplot as plt\n",
    "from scipy.stats import gmean\n",
    "from pandas import DataFrame\n"
   ]
  },
  {
   "cell_type": "code",
   "execution_count": 28,
   "metadata": {},
   "outputs": [
    {
     "data": {
      "text/html": [
       "<div>\n",
       "<style scoped>\n",
       "    .dataframe tbody tr th:only-of-type {\n",
       "        vertical-align: middle;\n",
       "    }\n",
       "\n",
       "    .dataframe tbody tr th {\n",
       "        vertical-align: top;\n",
       "    }\n",
       "\n",
       "    .dataframe thead th {\n",
       "        text-align: right;\n",
       "    }\n",
       "</style>\n",
       "<table border=\"1\" class=\"dataframe\">\n",
       "  <thead>\n",
       "    <tr style=\"text-align: right;\">\n",
       "      <th></th>\n",
       "      <th>Market Cap</th>\n",
       "      <th>Employees</th>\n",
       "      <th>Book Value</th>\n",
       "      <th>Equal</th>\n",
       "      <th>Random</th>\n",
       "      <th>Variance</th>\n",
       "      <th>Custom</th>\n",
       "    </tr>\n",
       "  </thead>\n",
       "  <tbody>\n",
       "    <tr>\n",
       "      <th>1995-12-31</th>\n",
       "      <td>1</td>\n",
       "      <td>1</td>\n",
       "      <td>1</td>\n",
       "      <td>1</td>\n",
       "      <td>1</td>\n",
       "      <td>1</td>\n",
       "      <td>1</td>\n",
       "    </tr>\n",
       "    <tr>\n",
       "      <th>1996-01-31</th>\n",
       "      <td>1.055732</td>\n",
       "      <td>1.037344</td>\n",
       "      <td>1.027627</td>\n",
       "      <td>1.00793</td>\n",
       "      <td>1.007622</td>\n",
       "      <td>0.975108</td>\n",
       "      <td>1.022483</td>\n",
       "    </tr>\n",
       "    <tr>\n",
       "      <th>1996-02-29</th>\n",
       "      <td>1.06463</td>\n",
       "      <td>1.050292</td>\n",
       "      <td>1.042715</td>\n",
       "      <td>1.027357</td>\n",
       "      <td>1.027117</td>\n",
       "      <td>1.001764</td>\n",
       "      <td>1.038705</td>\n",
       "    </tr>\n",
       "    <tr>\n",
       "      <th>1996-03-31</th>\n",
       "      <td>1.036932</td>\n",
       "      <td>1.029997</td>\n",
       "      <td>1.026332</td>\n",
       "      <td>1.018903</td>\n",
       "      <td>1.018787</td>\n",
       "      <td>1.006524</td>\n",
       "      <td>1.024392</td>\n",
       "    </tr>\n",
       "    <tr>\n",
       "      <th>1996-04-30</th>\n",
       "      <td>1.043941</td>\n",
       "      <td>1.036461</td>\n",
       "      <td>1.032508</td>\n",
       "      <td>1.024496</td>\n",
       "      <td>1.024371</td>\n",
       "      <td>1.011145</td>\n",
       "      <td>1.030416</td>\n",
       "    </tr>\n",
       "  </tbody>\n",
       "</table>\n",
       "</div>"
      ],
      "text/plain": [
       "           Market Cap Employees Book Value     Equal    Random  Variance  \\\n",
       "1995-12-31          1         1          1         1         1         1   \n",
       "1996-01-31   1.055732  1.037344   1.027627   1.00793  1.007622  0.975108   \n",
       "1996-02-29    1.06463  1.050292   1.042715  1.027357  1.027117  1.001764   \n",
       "1996-03-31   1.036932  1.029997   1.026332  1.018903  1.018787  1.006524   \n",
       "1996-04-30   1.043941  1.036461   1.032508  1.024496  1.024371  1.011145   \n",
       "\n",
       "              Custom  \n",
       "1995-12-31         1  \n",
       "1996-01-31  1.022483  \n",
       "1996-02-29  1.038705  \n",
       "1996-03-31  1.024392  \n",
       "1996-04-30  1.030416  "
      ]
     },
     "execution_count": 28,
     "metadata": {},
     "output_type": "execute_result"
    }
   ],
   "source": [
    "df_Results = pd.read_pickle(\"UsableData/Results.pkl\")\n",
    "df_Results.head(5)"
   ]
  },
  {
   "cell_type": "code",
   "execution_count": 29,
   "metadata": {},
   "outputs": [
    {
     "data": {
      "text/plain": [
       "Market Cap    422.333998\n",
       "Employees     643.160159\n",
       "Book Value    517.509186\n",
       "Equal         555.230327\n",
       "Random        572.228095\n",
       "Variance      113.853416\n",
       "Custom        624.791655\n",
       "dtype: object"
      ]
     },
     "execution_count": 29,
     "metadata": {},
     "output_type": "execute_result"
    }
   ],
   "source": [
    "# Based on 3.1 Finance Introduction\n",
    "total_cumulative_return = (df_Results.iloc[-1]-df_Results.iloc[1])*100\n",
    "total_cumulative_return"
   ]
  },
  {
   "cell_type": "code",
   "execution_count": 30,
   "metadata": {},
   "outputs": [
    {
     "data": {
      "text/plain": [
       "Market Cap    17.976316\n",
       "Employees     22.210421\n",
       "Book Value    19.967703\n",
       "Equal         20.681139\n",
       "Random         20.99061\n",
       "Variance       7.897559\n",
       "Custom        21.904944\n",
       "dtype: object"
      ]
     },
     "execution_count": 30,
     "metadata": {},
     "output_type": "execute_result"
    }
   ],
   "source": [
    "# Based on 3.1 Finance Introduction\n",
    "mean_yearly_return = (((1+(total_cumulative_return/100)))**(1/10)-1)*100\n",
    "mean_yearly_return"
   ]
  },
  {
   "cell_type": "code",
   "execution_count": 31,
   "metadata": {},
   "outputs": [
    {
     "data": {
      "text/html": [
       "<div>\n",
       "<style scoped>\n",
       "    .dataframe tbody tr th:only-of-type {\n",
       "        vertical-align: middle;\n",
       "    }\n",
       "\n",
       "    .dataframe tbody tr th {\n",
       "        vertical-align: top;\n",
       "    }\n",
       "\n",
       "    .dataframe thead th {\n",
       "        text-align: right;\n",
       "    }\n",
       "</style>\n",
       "<table border=\"1\" class=\"dataframe\">\n",
       "  <thead>\n",
       "    <tr style=\"text-align: right;\">\n",
       "      <th></th>\n",
       "      <th>Market Cap</th>\n",
       "      <th>Employees</th>\n",
       "      <th>Book Value</th>\n",
       "      <th>Equal</th>\n",
       "      <th>Random</th>\n",
       "      <th>Variance</th>\n",
       "      <th>Custom</th>\n",
       "    </tr>\n",
       "  </thead>\n",
       "  <tbody>\n",
       "    <tr>\n",
       "      <th>1996-01-31</th>\n",
       "      <td>5.573161</td>\n",
       "      <td>3.734411</td>\n",
       "      <td>2.762652</td>\n",
       "      <td>0.793015</td>\n",
       "      <td>0.762178</td>\n",
       "      <td>-2.489193</td>\n",
       "      <td>2.248295</td>\n",
       "    </tr>\n",
       "    <tr>\n",
       "      <th>1996-02-29</th>\n",
       "      <td>0.842857</td>\n",
       "      <td>1.248215</td>\n",
       "      <td>1.468301</td>\n",
       "      <td>1.927407</td>\n",
       "      <td>1.934737</td>\n",
       "      <td>2.733667</td>\n",
       "      <td>1.586487</td>\n",
       "    </tr>\n",
       "    <tr>\n",
       "      <th>1996-03-31</th>\n",
       "      <td>-2.601658</td>\n",
       "      <td>-1.932360</td>\n",
       "      <td>-1.571210</td>\n",
       "      <td>-0.822860</td>\n",
       "      <td>-0.810965</td>\n",
       "      <td>0.475171</td>\n",
       "      <td>-1.377918</td>\n",
       "    </tr>\n",
       "    <tr>\n",
       "      <th>1996-04-30</th>\n",
       "      <td>0.675964</td>\n",
       "      <td>0.627619</td>\n",
       "      <td>0.601806</td>\n",
       "      <td>0.548916</td>\n",
       "      <td>0.548082</td>\n",
       "      <td>0.459045</td>\n",
       "      <td>0.588068</td>\n",
       "    </tr>\n",
       "    <tr>\n",
       "      <th>1996-05-31</th>\n",
       "      <td>9.309816</td>\n",
       "      <td>9.269007</td>\n",
       "      <td>9.247201</td>\n",
       "      <td>9.202487</td>\n",
       "      <td>9.201782</td>\n",
       "      <td>9.126401</td>\n",
       "      <td>9.235592</td>\n",
       "    </tr>\n",
       "  </tbody>\n",
       "</table>\n",
       "</div>"
      ],
      "text/plain": [
       "            Market Cap  Employees  Book Value     Equal    Random  Variance  \\\n",
       "1996-01-31    5.573161   3.734411    2.762652  0.793015  0.762178 -2.489193   \n",
       "1996-02-29    0.842857   1.248215    1.468301  1.927407  1.934737  2.733667   \n",
       "1996-03-31   -2.601658  -1.932360   -1.571210 -0.822860 -0.810965  0.475171   \n",
       "1996-04-30    0.675964   0.627619    0.601806  0.548916  0.548082  0.459045   \n",
       "1996-05-31    9.309816   9.269007    9.247201  9.202487  9.201782  9.126401   \n",
       "\n",
       "              Custom  \n",
       "1996-01-31  2.248295  \n",
       "1996-02-29  1.586487  \n",
       "1996-03-31 -1.377918  \n",
       "1996-04-30  0.588068  \n",
       "1996-05-31  9.235592  "
      ]
     },
     "execution_count": 31,
     "metadata": {},
     "output_type": "execute_result"
    }
   ],
   "source": [
    "df_Returns_Strat = df_Results.pct_change()*100\n",
    "df_Returns_Strat.dropna(axis=0, inplace=True)\n",
    "df_Returns_Strat.head(5)"
   ]
  },
  {
   "cell_type": "code",
   "execution_count": 32,
   "metadata": {},
   "outputs": [
    {
     "data": {
      "text/plain": [
       "Market Cap    5.685149\n",
       "Employees     5.872179\n",
       "Book Value    5.941810\n",
       "Equal         4.492707\n",
       "Random        4.510380\n",
       "Variance      5.026623\n",
       "Custom        4.982646\n",
       "dtype: float64"
      ]
     },
     "execution_count": 32,
     "metadata": {},
     "output_type": "execute_result"
    }
   ],
   "source": [
    "monthly_vol = np.std(df_Returns_Strat, axis=0)\n",
    "monthly_vol"
   ]
  },
  {
   "cell_type": "code",
   "execution_count": 33,
   "metadata": {},
   "outputs": [
    {
     "data": {
      "text/html": [
       "<div>\n",
       "<style scoped>\n",
       "    .dataframe tbody tr th:only-of-type {\n",
       "        vertical-align: middle;\n",
       "    }\n",
       "\n",
       "    .dataframe tbody tr th {\n",
       "        vertical-align: top;\n",
       "    }\n",
       "\n",
       "    .dataframe thead th {\n",
       "        text-align: right;\n",
       "    }\n",
       "</style>\n",
       "<table border=\"1\" class=\"dataframe\">\n",
       "  <thead>\n",
       "    <tr style=\"text-align: right;\">\n",
       "      <th></th>\n",
       "      <th>Zuletzt</th>\n",
       "      <th>Eröffn.</th>\n",
       "      <th>Hoch</th>\n",
       "      <th>Tief</th>\n",
       "      <th>+/- %</th>\n",
       "    </tr>\n",
       "    <tr>\n",
       "      <th>Datum</th>\n",
       "      <th></th>\n",
       "      <th></th>\n",
       "      <th></th>\n",
       "      <th></th>\n",
       "      <th></th>\n",
       "    </tr>\n",
       "  </thead>\n",
       "  <tbody>\n",
       "    <tr>\n",
       "      <th>2019-12-01</th>\n",
       "      <td>-0.187</td>\n",
       "      <td>-0,3230</td>\n",
       "      <td>-0,1720</td>\n",
       "      <td>-0,3650</td>\n",
       "      <td>-48,06%</td>\n",
       "    </tr>\n",
       "    <tr>\n",
       "      <th>2019-11-01</th>\n",
       "      <td>-0.36</td>\n",
       "      <td>-0,4070</td>\n",
       "      <td>-0,2180</td>\n",
       "      <td>-0,4170</td>\n",
       "      <td>-10,67%</td>\n",
       "    </tr>\n",
       "    <tr>\n",
       "      <th>2019-10-01</th>\n",
       "      <td>-0.403</td>\n",
       "      <td>-0,5490</td>\n",
       "      <td>-0,3200</td>\n",
       "      <td>-0,6040</td>\n",
       "      <td>-29,55%</td>\n",
       "    </tr>\n",
       "    <tr>\n",
       "      <th>2019-09-01</th>\n",
       "      <td>-0.572</td>\n",
       "      <td>-0,7030</td>\n",
       "      <td>-0,4340</td>\n",
       "      <td>-0,7430</td>\n",
       "      <td>-18,63%</td>\n",
       "    </tr>\n",
       "    <tr>\n",
       "      <th>2019-08-01</th>\n",
       "      <td>-0.703</td>\n",
       "      <td>-0,4330</td>\n",
       "      <td>-0,4120</td>\n",
       "      <td>-0,7280</td>\n",
       "      <td>59,05%</td>\n",
       "    </tr>\n",
       "  </tbody>\n",
       "</table>\n",
       "</div>"
      ],
      "text/plain": [
       "           Zuletzt  Eröffn.     Hoch     Tief    +/- %\n",
       "Datum                                                 \n",
       "2019-12-01  -0.187  -0,3230  -0,1720  -0,3650  -48,06%\n",
       "2019-11-01   -0.36  -0,4070  -0,2180  -0,4170  -10,67%\n",
       "2019-10-01  -0.403  -0,5490  -0,3200  -0,6040  -29,55%\n",
       "2019-09-01  -0.572  -0,7030  -0,4340  -0,7430  -18,63%\n",
       "2019-08-01  -0.703  -0,4330  -0,4120  -0,7280   59,05%"
      ]
     },
     "execution_count": 33,
     "metadata": {},
     "output_type": "execute_result"
    }
   ],
   "source": [
    "# Read yearly return of DE 10 Year Bound reported monthly\n",
    "DE10Y = pd.read_csv(\"RawData/DE10Y.csv\", index_col=\"Datum\")\n",
    "DE10Y.index = pd.to_datetime(DE10Y.index, dayfirst=True)\n",
    "DE10Y = DE10Y[(DE10Y.index >= df_Results.index[1]) & (DE10Y.index <= df_Results.index[-1])]\n",
    "for row in DE10Y.index:\n",
    "    string = DE10Y.loc[row, \"Zuletzt\"].strip(\"%\").replace(\".\", \"\").replace(\",\", \".\")\n",
    "    DE10Y.at[row, \"Zuletzt\"] = float(string)\n",
    "DE10Y.head(5)"
   ]
  },
  {
   "cell_type": "code",
   "execution_count": 34,
   "metadata": {},
   "outputs": [
    {
     "data": {
      "text/plain": [
       "3.047656794425087"
      ]
     },
     "execution_count": 34,
     "metadata": {},
     "output_type": "execute_result"
    }
   ],
   "source": [
    "# Based on 3.1 Finance Introduction\n",
    "risk_free_return = np.mean(DE10Y[\"Zuletzt\"])\n",
    "risk_free_return"
   ]
  },
  {
   "cell_type": "code",
   "execution_count": 35,
   "metadata": {},
   "outputs": [
    {
     "data": {
      "text/plain": [
       "Market Cap    2.625905\n",
       "Employees     3.263314\n",
       "Book Value    2.847625\n",
       "Equal         3.924913\n",
       "Random        3.978147\n",
       "Variance      0.964843\n",
       "Custom        3.784593\n",
       "dtype: float64"
      ]
     },
     "execution_count": 35,
     "metadata": {},
     "output_type": "execute_result"
    }
   ],
   "source": [
    "# Based on 3.1 Finance Introduction\n",
    "sharpe_ratio = pd.Series(index=df_Results.columns)\n",
    "for strategy in mean_yearly_return.index:\n",
    "    sharpe_ratio[strategy] = (mean_yearly_return[strategy] - risk_free_return) / monthly_vol[strategy]\n",
    "sharpe_ratio"
   ]
  },
  {
   "cell_type": "code",
   "execution_count": 36,
   "metadata": {},
   "outputs": [
    {
     "data": {
      "text/plain": [
       "Market Cap   -22.348892\n",
       "Employees    -24.473774\n",
       "Book Value   -22.915366\n",
       "Equal        -15.604835\n",
       "Random       -16.063150\n",
       "Variance     -27.235294\n",
       "Custom       -20.107138\n",
       "dtype: float64"
      ]
     },
     "execution_count": 36,
     "metadata": {},
     "output_type": "execute_result"
    }
   ],
   "source": [
    "# maximum monthly drawdown\n",
    "max_monthly_drawdown = pd.Series(index=df_Results.columns)\n",
    "for strategy in df_Returns_Strat.columns:\n",
    "    max_monthly_drawdown[strategy] = min(df_Returns_Strat[strategy])\n",
    "max_monthly_drawdown"
   ]
  },
  {
   "cell_type": "code",
   "execution_count": 37,
   "metadata": {},
   "outputs": [
    {
     "data": {
      "text/plain": [
       "Market Cap    170.0\n",
       "Employees     175.0\n",
       "Book Value    172.0\n",
       "Equal         181.0\n",
       "Random        183.0\n",
       "Variance      174.0\n",
       "Custom        172.0\n",
       "dtype: float64"
      ]
     },
     "execution_count": 37,
     "metadata": {},
     "output_type": "execute_result"
    }
   ],
   "source": [
    "positive_month = pd.Series(index=df_Results.columns)\n",
    "for strategy in df_Returns_Strat.columns:\n",
    "    returns = df_Returns_Strat[strategy]\n",
    "    returns = returns[returns > 0]\n",
    "    positive_month[strategy] = len(returns)\n",
    "positive_month"
   ]
  },
  {
   "cell_type": "code",
   "execution_count": 38,
   "metadata": {},
   "outputs": [
    {
     "data": {
      "text/html": [
       "<div>\n",
       "<style scoped>\n",
       "    .dataframe tbody tr th:only-of-type {\n",
       "        vertical-align: middle;\n",
       "    }\n",
       "\n",
       "    .dataframe tbody tr th {\n",
       "        vertical-align: top;\n",
       "    }\n",
       "\n",
       "    .dataframe thead th {\n",
       "        text-align: right;\n",
       "    }\n",
       "</style>\n",
       "<table border=\"1\" class=\"dataframe\">\n",
       "  <thead>\n",
       "    <tr style=\"text-align: right;\">\n",
       "      <th></th>\n",
       "      <th>Total Cumulative Return</th>\n",
       "      <th>Mean Yearly Return</th>\n",
       "      <th>Volatility</th>\n",
       "      <th>Sharpe Ratio</th>\n",
       "      <th>Max Drawdown</th>\n",
       "      <th>Positive Month</th>\n",
       "    </tr>\n",
       "  </thead>\n",
       "  <tbody>\n",
       "    <tr>\n",
       "      <th>Market Cap</th>\n",
       "      <td>422.333998</td>\n",
       "      <td>17.976316</td>\n",
       "      <td>5.685149</td>\n",
       "      <td>2.625905</td>\n",
       "      <td>-22.348892</td>\n",
       "      <td>170.0</td>\n",
       "    </tr>\n",
       "    <tr>\n",
       "      <th>Employees</th>\n",
       "      <td>643.160159</td>\n",
       "      <td>22.210421</td>\n",
       "      <td>5.872179</td>\n",
       "      <td>3.263314</td>\n",
       "      <td>-24.473774</td>\n",
       "      <td>175.0</td>\n",
       "    </tr>\n",
       "    <tr>\n",
       "      <th>Book Value</th>\n",
       "      <td>517.509186</td>\n",
       "      <td>19.967703</td>\n",
       "      <td>5.941810</td>\n",
       "      <td>2.847625</td>\n",
       "      <td>-22.915366</td>\n",
       "      <td>172.0</td>\n",
       "    </tr>\n",
       "    <tr>\n",
       "      <th>Equal</th>\n",
       "      <td>555.230327</td>\n",
       "      <td>20.681139</td>\n",
       "      <td>4.492707</td>\n",
       "      <td>3.924913</td>\n",
       "      <td>-15.604835</td>\n",
       "      <td>181.0</td>\n",
       "    </tr>\n",
       "    <tr>\n",
       "      <th>Random</th>\n",
       "      <td>572.228095</td>\n",
       "      <td>20.99061</td>\n",
       "      <td>4.510380</td>\n",
       "      <td>3.978147</td>\n",
       "      <td>-16.063150</td>\n",
       "      <td>183.0</td>\n",
       "    </tr>\n",
       "    <tr>\n",
       "      <th>Variance</th>\n",
       "      <td>113.853416</td>\n",
       "      <td>7.897559</td>\n",
       "      <td>5.026623</td>\n",
       "      <td>0.964843</td>\n",
       "      <td>-27.235294</td>\n",
       "      <td>174.0</td>\n",
       "    </tr>\n",
       "    <tr>\n",
       "      <th>Custom</th>\n",
       "      <td>624.791655</td>\n",
       "      <td>21.904944</td>\n",
       "      <td>4.982646</td>\n",
       "      <td>3.784593</td>\n",
       "      <td>-20.107138</td>\n",
       "      <td>172.0</td>\n",
       "    </tr>\n",
       "  </tbody>\n",
       "</table>\n",
       "</div>"
      ],
      "text/plain": [
       "           Total Cumulative Return Mean Yearly Return  Volatility  \\\n",
       "Market Cap              422.333998          17.976316    5.685149   \n",
       "Employees               643.160159          22.210421    5.872179   \n",
       "Book Value              517.509186          19.967703    5.941810   \n",
       "Equal                   555.230327          20.681139    4.492707   \n",
       "Random                  572.228095           20.99061    4.510380   \n",
       "Variance                113.853416           7.897559    5.026623   \n",
       "Custom                  624.791655          21.904944    4.982646   \n",
       "\n",
       "            Sharpe Ratio  Max Drawdown  Positive Month  \n",
       "Market Cap      2.625905    -22.348892           170.0  \n",
       "Employees       3.263314    -24.473774           175.0  \n",
       "Book Value      2.847625    -22.915366           172.0  \n",
       "Equal           3.924913    -15.604835           181.0  \n",
       "Random          3.978147    -16.063150           183.0  \n",
       "Variance        0.964843    -27.235294           174.0  \n",
       "Custom          3.784593    -20.107138           172.0  "
      ]
     },
     "execution_count": 38,
     "metadata": {},
     "output_type": "execute_result"
    }
   ],
   "source": [
    "df_Analysis = DataFrame(index=df_Results.columns)\n",
    "df_Analysis[\"Total Cumulative Return\"] = total_cumulative_return\n",
    "df_Analysis[\"Mean Yearly Return\"] = mean_yearly_return\n",
    "df_Analysis[\"Volatility\"] = monthly_vol\n",
    "df_Analysis[\"Sharpe Ratio\"] = sharpe_ratio\n",
    "df_Analysis[\"Max Drawdown\"] = max_monthly_drawdown\n",
    "df_Analysis[\"Positive Month\"] = positive_month\n",
    "df_Analysis.to_pickle(\"UsableData/Analysis.pkl\")\n",
    "df_Analysis"
   ]
  }
 ],
 "metadata": {
  "kernelspec": {
   "display_name": "Python 3",
   "language": "python",
   "name": "python3"
  },
  "language_info": {
   "codemirror_mode": {
    "name": "ipython",
    "version": 3
   },
   "file_extension": ".py",
   "mimetype": "text/x-python",
   "name": "python",
   "nbconvert_exporter": "python",
   "pygments_lexer": "ipython3",
   "version": "3.11.7"
  }
 },
 "nbformat": 4,
 "nbformat_minor": 2
}
