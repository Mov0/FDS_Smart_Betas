{
 "cells": [
  {
   "cell_type": "code",
   "execution_count": 19,
   "metadata": {},
   "outputs": [],
   "source": [
    "import pandas as pd\n",
    "import numpy as np"
   ]
  },
  {
   "cell_type": "code",
   "execution_count": 20,
   "metadata": {},
   "outputs": [],
   "source": [
    "df_market_cap = pd.read_pickle(\"UsableData/MarketCap.pkl\")\n",
    "df_employees = pd.read_pickle(\"UsableData/Employees.pkl\")\n",
    "df_book_value = pd.read_pickle(\"UsableData/BookValue.pkl\")\n",
    "df_equal = pd.read_pickle(\"UsableData/Equal.pkl\")\n",
    "df_random = pd.read_pickle(\"UsableData/Random.pkl\")\n",
    "df_returns = pd.read_pickle(\"UsableData/Returns.pkl\").T\n",
    "df_eligible = pd.read_pickle(\"UsableData/EligibleStocks.pkl\")"
   ]
  },
  {
   "cell_type": "code",
   "execution_count": 21,
   "metadata": {},
   "outputs": [],
   "source": [
    "strategies = {\"Market Cap\": df_market_cap, \"Employees\": df_employees, \"Book Value\": df_book_value, \"Equal\": df_equal, \"Random\": df_random} # [DATAFRAME, SMALLER_IS_BETTER] e. g. for market cap bigger values mean better mean bigger weight -> False, reversed for variance -> smaller better -> True"
   ]
  },
  {
   "cell_type": "code",
   "execution_count": 22,
   "metadata": {},
   "outputs": [],
   "source": [
    "# Only run one specific strategy\n",
    "# STRATEGY = \"Book Value\" # Select Strategy\n",
    "# df = strategies[STRATEGY][0]\n",
    "\n",
    "# from pandas import DataFrame\n",
    "# years = df_eligible.columns.to_list()\n",
    "# years.insert(0, years[0]-1)\n",
    "# try:\n",
    "#     df_results = pd.read_pickle(\"UsableData/Results.pkl\")\n",
    "# except FileNotFoundError:\n",
    "#     df_results = DataFrame(index=years, columns=strategies.keys())\n",
    "\n",
    "\n",
    "# cash = 1\n",
    "# df_results.at[years[0], STRATEGY] = cash\n",
    "# for year in years[1:]:\n",
    "#     # Calculate weights\n",
    "#     eligible_stocks = df_eligible[df_eligible[year] == True][year].index.values\n",
    "#     weight = df.loc[eligible_stocks, year-1]\n",
    "#     # print(f\"{year}: {np.round(cash, 2)}€\")\n",
    "#     if strategies[STRATEGY][1]: # True if smaller value should have greater weight\n",
    "#         weight = 1/weight # Reverse\n",
    "#         weight = weight/weight.sum() # Calculate percentual weight\n",
    "#     else: # Greater value results in greater weight\n",
    "#         weight = weight/weight.sum()\n",
    "#     # Go through month and multiply returns\n",
    "#     total_cash_gained = 0\n",
    "#     for ric in eligible_stocks:\n",
    "#         returns = df_returns[ric][(df_returns.index >= f\"{year}-01-01\") & (df_returns.index <= f\"{year}-12-31\")]\n",
    "#         yearly_return = (np.prod(returns/100 + 1)-1)*100\n",
    "#         monetary_change = cash*weight[ric]*yearly_return/100\n",
    "#         # print(f\"    {ric} - Weight: {np.round(weight[ric]* 100, 2)} % - Return: {np.round((yearly_change-1)*100, 2)} % - Gain: {np.round(absolute_return, 2)}\")\n",
    "#         total_cash_gained += monetary_change\n",
    "#     cash += total_cash_gained\n",
    "#     df_results.at[year, STRATEGY] = cash\n",
    "# df_results.to_pickle(\"UsableData/Results.pkl\")"
   ]
  },
  {
   "cell_type": "code",
   "execution_count": 23,
   "metadata": {},
   "outputs": [],
   "source": [
    "# Test Data to validate simulation\n",
    "# from pandas import DataFrame\n",
    "\n",
    "# i = [\"A\", \"B\", \"C\"]\n",
    "# data = {2000: [True, True, True], 2001: [True, True, True], 2002: [True, True, True], 2003: [True, True, True]}\n",
    "# df_eligible = DataFrame(data=data, index = i)\n",
    "# times = pd.date_range('2000-01-31', periods=48, freq='M')\n",
    "# df_returns = DataFrame(data = 1, index=times, columns=i)\n",
    "# data = {1999: [1, 1, 1], 2000: [1, 1, 1], 2001: [1, 1, 1], 2002: [1, 1, 1]}\n",
    "# df = DataFrame(data=data, index = i)"
   ]
  },
  {
   "cell_type": "code",
   "execution_count": 24,
   "metadata": {},
   "outputs": [],
   "source": [
    "# Run strategies\n",
    "from pandas import DataFrame\n",
    "years = df_eligible.columns.to_list()\n",
    "years.insert(0, years[0]-1)\n",
    "df_results = DataFrame(index=df_returns[(df_returns.index >= f\"{years[0]}-12-01\") & (df_returns.index <= f\"{years[-1]}-12-31\")].index, columns=strategies.keys())\n",
    "\n",
    "for strategy in strategies.keys():\n",
    "    df = strategies[strategy]\n",
    "    cash = 1\n",
    "    df_results.at[f\"{years[0]}-12-31\", strategy] = cash\n",
    "    for year in years[1:]:\n",
    "        cash_up_to_month = 0\n",
    "        # Calculate weights\n",
    "        eligible_stocks = df_eligible[df_eligible[year] == True][year].index.values\n",
    "        weight = df.loc[eligible_stocks, year-1]\n",
    "        weight = weight/weight.sum()\n",
    "        # Go through month and multiply returns\n",
    "        returns = df_returns[(df_returns.index >= f\"{year}-01-01\") & (df_returns.index <= f\"{year}-12-31\")]\n",
    "        for month in returns.index:\n",
    "            total_cash_gained_up_to_month = 0\n",
    "            returns_up_to_month = returns[(returns.index >= f\"{year}-01-01\") & (returns.index <= month)]\n",
    "            for ric in eligible_stocks:\n",
    "                stock_return_up_to_month = returns_up_to_month[ric].values\n",
    "                return_up_to_month = (np.prod(stock_return_up_to_month/100 + 1)-1)*100\n",
    "                monetary_change = cash*weight[ric]*return_up_to_month/100\n",
    "                # print(f\"    {ric} - Weight: {np.round(weight[ric]* 100, 2)} % - Return: {np.round((yearly_change-1)*100, 2)} % - Gain: {np.round(absolute_return, 2)}\")\n",
    "                total_cash_gained_up_to_month += monetary_change\n",
    "            cash_up_to_month = total_cash_gained_up_to_month + cash\n",
    "            df_results.at[month, strategy] = cash_up_to_month\n",
    "        cash = cash_up_to_month\n",
    "df_results.to_pickle(\"UsableData/Results.pkl\")"
   ]
  }
 ],
 "metadata": {
  "kernelspec": {
   "display_name": "Python 3",
   "language": "python",
   "name": "python3"
  },
  "language_info": {
   "codemirror_mode": {
    "name": "ipython",
    "version": 3
   },
   "file_extension": ".py",
   "mimetype": "text/x-python",
   "name": "python",
   "nbconvert_exporter": "python",
   "pygments_lexer": "ipython3",
   "version": "3.11.7"
  }
 },
 "nbformat": 4,
 "nbformat_minor": 2
}
