{
 "cells": [
  {
   "cell_type": "code",
   "execution_count": 39,
   "metadata": {},
   "outputs": [],
   "source": [
    "import pandas as pd\n",
    "import numpy as np\n",
    "from pandas import DataFrame\n",
    "import math"
   ]
  },
  {
   "cell_type": "code",
   "execution_count": 40,
   "metadata": {},
   "outputs": [],
   "source": [
    "# Read dataframes\n",
    "df_Market_Cap = pd.read_pickle(\"UsableData/MarketCap.pkl\")\n",
    "df_Employees = pd.read_pickle(\"UsableData/Employees.pkl\")\n",
    "df_Book_Value = pd.read_pickle(\"UsableData/BookValue.pkl\")\n",
    "df_Variance = pd.read_pickle(\"UsableData/Variance.pkl\")\n",
    "df_Returns = pd.read_pickle(\"UsableData/Returns.pkl\").T"
   ]
  },
  {
   "cell_type": "code",
   "execution_count": 41,
   "metadata": {},
   "outputs": [],
   "source": [
    "# Use existing dataframe as template and set all cloumns to False and data type to Boolean\n",
    "df_eligible = df_Market_Cap.copy(deep=True)\n",
    "for column in df_eligible:\n",
    "    df_eligible[column].astype(\"bool\")\n",
    "    df_eligible[column] = False"
   ]
  },
  {
   "cell_type": "code",
   "execution_count": 42,
   "metadata": {},
   "outputs": [],
   "source": [
    "# Create method that checks if there are non NaN returns in one year and therefore the stock is usable in that year in regards to the return data\n",
    "def unusableReturns(ric, year):\n",
    "    selection = df_Returns[ric][(df_Returns.index >= f\"{year}-01-01\") & (df_Returns.index <= f\"{year}-12-31\")]\n",
    "    return bool(selection.isna().values.any())"
   ]
  },
  {
   "cell_type": "code",
   "execution_count": 43,
   "metadata": {},
   "outputs": [
    {
     "data": {
      "text/plain": [
       "Index([1996, 1997, 1998, 1999, 2000, 2001, 2002, 2003, 2004, 2005, 2006, 2007,\n",
       "       2008, 2009, 2010, 2011, 2012, 2013, 2014, 2015, 2016, 2017, 2018, 2019,\n",
       "       2020, 2021],\n",
       "      dtype='int32', name='Year')"
      ]
     },
     "execution_count": 43,
     "metadata": {},
     "output_type": "execute_result"
    }
   ],
   "source": [
    "# Iterate through every year and see which stocks are eligible\n",
    "years = df_Market_Cap.columns.to_numpy()[:-1] # Exclude first year, because no data from previous year to calculate weights\n",
    "for ric in df_Market_Cap.index: # Go through every stock\n",
    "    for year in years: # In every year\n",
    "        mc = df_Market_Cap.loc[ric, year]\n",
    "        emp = df_Employees.loc[ric, year]\n",
    "        bv = df_Book_Value.loc[ric, year]\n",
    "        var = df_Variance.loc[ric, year]\n",
    "        if(math.isnan(mc) or math.isnan(emp) or math.isnan(bv) or math.isnan(var) or unusableReturns(ric, year+1)): # If one of the data for weights (mc, emp, bv, var) is nan or return for next year stock is not eligible\n",
    "            df_eligible.at[ric, year+1] = False\n",
    "        else: # If all the data is there, stock is eligible\n",
    "            df_eligible.at[ric, year+1] = True\n",
    "df_eligible.drop(columns=[years[0]], inplace=True) # Drop first and last year\n",
    "df_eligible.columns"
   ]
  },
  {
   "cell_type": "code",
   "execution_count": 44,
   "metadata": {},
   "outputs": [
    {
     "name": "stdout",
     "output_type": "stream",
     "text": [
      "1996: 2\n",
      "1997: 22\n",
      "1998: 33\n",
      "1999: 104\n",
      "2000: 194\n",
      "2001: 284\n",
      "2002: 344\n",
      "2003: 370\n",
      "2004: 432\n",
      "2005: 447\n",
      "2006: 490\n",
      "2007: 554\n",
      "2008: 578\n",
      "2009: 588\n",
      "2010: 555\n",
      "2011: 571\n",
      "2012: 582\n",
      "2013: 552\n",
      "2014: 534\n",
      "2015: 471\n",
      "2016: 450\n",
      "2017: 442\n",
      "2018: 449\n",
      "2019: 456\n",
      "2020: 487\n",
      "2021: 525\n"
     ]
    }
   ],
   "source": [
    "# Count how many stocks are eligible in each year\n",
    "for i in range(len(df_eligible.columns)):\n",
    "    df = df_eligible[df_eligible[df_eligible.columns[i]] == True]\n",
    "    print(f\"{df_eligible.columns[i]}: {len(df.index)}\")"
   ]
  },
  {
   "cell_type": "code",
   "execution_count": 45,
   "metadata": {},
   "outputs": [],
   "source": [
    "# Write dataframe\n",
    "df_eligible.to_pickle(\"UsableData/EligibleStocks.pkl\")"
   ]
  }
 ],
 "metadata": {
  "kernelspec": {
   "display_name": "Python 3",
   "language": "python",
   "name": "python3"
  },
  "language_info": {
   "codemirror_mode": {
    "name": "ipython",
    "version": 3
   },
   "file_extension": ".py",
   "mimetype": "text/x-python",
   "name": "python",
   "nbconvert_exporter": "python",
   "pygments_lexer": "ipython3",
   "version": "3.11.7"
  }
 },
 "nbformat": 4,
 "nbformat_minor": 2
}
